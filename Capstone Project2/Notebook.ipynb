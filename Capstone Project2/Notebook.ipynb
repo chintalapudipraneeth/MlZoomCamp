{
  "cells": [
    {
      "cell_type": "code",
      "execution_count": null,
      "metadata": {
        "colab": {
          "base_uri": "https://localhost:8080/",
          "height": 34
        },
        "id": "9cYwIgbpNu8a",
        "outputId": "f4769a3c-112a-4008-ee04-7fa3ed4c118f"
      },
      "outputs": [
        {
          "data": {
            "application/javascript": "IPython.notebook.set_autosave_interval(0)"
          },
          "metadata": {},
          "output_type": "display_data"
        },
        {
          "name": "stdout",
          "output_type": "stream",
          "text": [
            "Autosave disabled\n"
          ]
        }
      ],
      "source": [
        "%autosave 0"
      ]
    },
    {
      "cell_type": "markdown",
      "metadata": {
        "id": "kw8RceEu4FTP"
      },
      "source": [
        "## Previous steps"
      ]
    },
    {
      "cell_type": "markdown",
      "metadata": {
        "id": "E51QYTje3Xiu"
      },
      "source": [
        "### Installing and importing libraries"
      ]
    },
    {
      "cell_type": "code",
      "execution_count": null,
      "metadata": {
        "colab": {
          "base_uri": "https://localhost:8080/"
        },
        "id": "N0JYcqd1fOWQ",
        "outputId": "02dcb406-1373-4f55-db4a-c93e5a703273"
      },
      "outputs": [
        {
          "name": "stdout",
          "output_type": "stream",
          "text": [
            "Looking in indexes: https://pypi.org/simple, https://us-python.pkg.dev/colab-wheels/public/simple/\n",
            "Requirement already satisfied: tensorflow in /usr/local/lib/python3.8/dist-packages (2.9.2)\n",
            "Requirement already satisfied: astunparse>=1.6.0 in /usr/local/lib/python3.8/dist-packages (from tensorflow) (1.6.3)\n",
            "Requirement already satisfied: tensorflow-estimator<2.10.0,>=2.9.0rc0 in /usr/local/lib/python3.8/dist-packages (from tensorflow) (2.9.0)\n",
            "Requirement already satisfied: typing-extensions>=3.6.6 in /usr/local/lib/python3.8/dist-packages (from tensorflow) (4.4.0)\n",
            "Requirement already satisfied: numpy>=1.20 in /usr/local/lib/python3.8/dist-packages (from tensorflow) (1.21.6)\n",
            "Requirement already satisfied: opt-einsum>=2.3.2 in /usr/local/lib/python3.8/dist-packages (from tensorflow) (3.3.0)\n",
            "Requirement already satisfied: tensorflow-io-gcs-filesystem>=0.23.1 in /usr/local/lib/python3.8/dist-packages (from tensorflow) (0.28.0)\n",
            "Requirement already satisfied: h5py>=2.9.0 in /usr/local/lib/python3.8/dist-packages (from tensorflow) (3.1.0)\n",
            "Requirement already satisfied: setuptools in /usr/local/lib/python3.8/dist-packages (from tensorflow) (57.4.0)\n",
            "Requirement already satisfied: packaging in /usr/local/lib/python3.8/dist-packages (from tensorflow) (21.3)\n",
            "Requirement already satisfied: six>=1.12.0 in /usr/local/lib/python3.8/dist-packages (from tensorflow) (1.15.0)\n",
            "Requirement already satisfied: termcolor>=1.1.0 in /usr/local/lib/python3.8/dist-packages (from tensorflow) (2.1.1)\n",
            "Requirement already satisfied: grpcio<2.0,>=1.24.3 in /usr/local/lib/python3.8/dist-packages (from tensorflow) (1.51.1)\n",
            "Requirement already satisfied: keras<2.10.0,>=2.9.0rc0 in /usr/local/lib/python3.8/dist-packages (from tensorflow) (2.9.0)\n",
            "Requirement already satisfied: libclang>=13.0.0 in /usr/local/lib/python3.8/dist-packages (from tensorflow) (14.0.6)\n",
            "Requirement already satisfied: google-pasta>=0.1.1 in /usr/local/lib/python3.8/dist-packages (from tensorflow) (0.2.0)\n",
            "Requirement already satisfied: absl-py>=1.0.0 in /usr/local/lib/python3.8/dist-packages (from tensorflow) (1.3.0)\n",
            "Requirement already satisfied: wrapt>=1.11.0 in /usr/local/lib/python3.8/dist-packages (from tensorflow) (1.14.1)\n",
            "Requirement already satisfied: gast<=0.4.0,>=0.2.1 in /usr/local/lib/python3.8/dist-packages (from tensorflow) (0.4.0)\n",
            "Requirement already satisfied: keras-preprocessing>=1.1.1 in /usr/local/lib/python3.8/dist-packages (from tensorflow) (1.1.2)\n",
            "Requirement already satisfied: tensorboard<2.10,>=2.9 in /usr/local/lib/python3.8/dist-packages (from tensorflow) (2.9.1)\n",
            "Requirement already satisfied: flatbuffers<2,>=1.12 in /usr/local/lib/python3.8/dist-packages (from tensorflow) (1.12)\n",
            "Requirement already satisfied: protobuf<3.20,>=3.9.2 in /usr/local/lib/python3.8/dist-packages (from tensorflow) (3.19.6)\n",
            "Requirement already satisfied: wheel<1.0,>=0.23.0 in /usr/local/lib/python3.8/dist-packages (from astunparse>=1.6.0->tensorflow) (0.38.4)\n",
            "Requirement already satisfied: tensorboard-data-server<0.7.0,>=0.6.0 in /usr/local/lib/python3.8/dist-packages (from tensorboard<2.10,>=2.9->tensorflow) (0.6.1)\n",
            "Requirement already satisfied: markdown>=2.6.8 in /usr/local/lib/python3.8/dist-packages (from tensorboard<2.10,>=2.9->tensorflow) (3.4.1)\n",
            "Requirement already satisfied: werkzeug>=1.0.1 in /usr/local/lib/python3.8/dist-packages (from tensorboard<2.10,>=2.9->tensorflow) (1.0.1)\n",
            "Requirement already satisfied: google-auth-oauthlib<0.5,>=0.4.1 in /usr/local/lib/python3.8/dist-packages (from tensorboard<2.10,>=2.9->tensorflow) (0.4.6)\n",
            "Requirement already satisfied: google-auth<3,>=1.6.3 in /usr/local/lib/python3.8/dist-packages (from tensorboard<2.10,>=2.9->tensorflow) (2.15.0)\n",
            "Requirement already satisfied: requests<3,>=2.21.0 in /usr/local/lib/python3.8/dist-packages (from tensorboard<2.10,>=2.9->tensorflow) (2.23.0)\n",
            "Requirement already satisfied: tensorboard-plugin-wit>=1.6.0 in /usr/local/lib/python3.8/dist-packages (from tensorboard<2.10,>=2.9->tensorflow) (1.8.1)\n",
            "Requirement already satisfied: cachetools<6.0,>=2.0.0 in /usr/local/lib/python3.8/dist-packages (from google-auth<3,>=1.6.3->tensorboard<2.10,>=2.9->tensorflow) (5.2.0)\n",
            "Requirement already satisfied: pyasn1-modules>=0.2.1 in /usr/local/lib/python3.8/dist-packages (from google-auth<3,>=1.6.3->tensorboard<2.10,>=2.9->tensorflow) (0.2.8)\n",
            "Requirement already satisfied: rsa<5,>=3.1.4 in /usr/local/lib/python3.8/dist-packages (from google-auth<3,>=1.6.3->tensorboard<2.10,>=2.9->tensorflow) (4.9)\n",
            "Requirement already satisfied: requests-oauthlib>=0.7.0 in /usr/local/lib/python3.8/dist-packages (from google-auth-oauthlib<0.5,>=0.4.1->tensorboard<2.10,>=2.9->tensorflow) (1.3.1)\n",
            "Requirement already satisfied: importlib-metadata>=4.4 in /usr/local/lib/python3.8/dist-packages (from markdown>=2.6.8->tensorboard<2.10,>=2.9->tensorflow) (5.1.0)\n",
            "Requirement already satisfied: zipp>=0.5 in /usr/local/lib/python3.8/dist-packages (from importlib-metadata>=4.4->markdown>=2.6.8->tensorboard<2.10,>=2.9->tensorflow) (3.11.0)\n",
            "Requirement already satisfied: pyasn1<0.5.0,>=0.4.6 in /usr/local/lib/python3.8/dist-packages (from pyasn1-modules>=0.2.1->google-auth<3,>=1.6.3->tensorboard<2.10,>=2.9->tensorflow) (0.4.8)\n",
            "Requirement already satisfied: urllib3!=1.25.0,!=1.25.1,<1.26,>=1.21.1 in /usr/local/lib/python3.8/dist-packages (from requests<3,>=2.21.0->tensorboard<2.10,>=2.9->tensorflow) (1.24.3)\n",
            "Requirement already satisfied: chardet<4,>=3.0.2 in /usr/local/lib/python3.8/dist-packages (from requests<3,>=2.21.0->tensorboard<2.10,>=2.9->tensorflow) (3.0.4)\n",
            "Requirement already satisfied: certifi>=2017.4.17 in /usr/local/lib/python3.8/dist-packages (from requests<3,>=2.21.0->tensorboard<2.10,>=2.9->tensorflow) (2022.12.7)\n",
            "Requirement already satisfied: idna<3,>=2.5 in /usr/local/lib/python3.8/dist-packages (from requests<3,>=2.21.0->tensorboard<2.10,>=2.9->tensorflow) (2.10)\n",
            "Requirement already satisfied: oauthlib>=3.0.0 in /usr/local/lib/python3.8/dist-packages (from requests-oauthlib>=0.7.0->google-auth-oauthlib<0.5,>=0.4.1->tensorboard<2.10,>=2.9->tensorflow) (3.2.2)\n",
            "Requirement already satisfied: pyparsing!=3.0.5,>=2.0.2 in /usr/local/lib/python3.8/dist-packages (from packaging->tensorflow) (3.0.9)\n"
          ]
        }
      ],
      "source": [
        "pip install tensorflow"
      ]
    },
    {
      "cell_type": "code",
      "execution_count": null,
      "metadata": {
        "colab": {
          "base_uri": "https://localhost:8080/"
        },
        "id": "IhupL5xhhVY4",
        "outputId": "72ea67ca-bc5d-46db-e79a-6d44e6cf89a1"
      },
      "outputs": [
        {
          "name": "stdout",
          "output_type": "stream",
          "text": [
            "Looking in indexes: https://pypi.org/simple, https://us-python.pkg.dev/colab-wheels/public/simple/\n",
            "Requirement already satisfied: Pillow in /usr/local/lib/python3.8/dist-packages (7.1.2)\n"
          ]
        }
      ],
      "source": [
        "pip install Pillow"
      ]
    },
    {
      "cell_type": "code",
      "execution_count": null,
      "metadata": {
        "colab": {
          "base_uri": "https://localhost:8080/"
        },
        "id": "GyqV8q9Uj7yn",
        "outputId": "a365179f-6eb7-4999-851c-7f6263566974"
      },
      "outputs": [
        {
          "name": "stdout",
          "output_type": "stream",
          "text": [
            "Looking in indexes: https://pypi.org/simple, https://us-python.pkg.dev/colab-wheels/public/simple/\n",
            "Collecting wget\n",
            "  Downloading wget-3.2.zip (10 kB)\n",
            "Building wheels for collected packages: wget\n",
            "  Building wheel for wget (setup.py) ... \u001b[?25l\u001b[?25hdone\n",
            "  Created wheel for wget: filename=wget-3.2-py3-none-any.whl size=9674 sha256=4e4c4b1463e82ee14e74930be1ed3ec467ac9c7d057026d6bb2062941fd375da\n",
            "  Stored in directory: /root/.cache/pip/wheels/bd/a8/c3/3cf2c14a1837a4e04bd98631724e81f33f462d86a1d895fae0\n",
            "Successfully built wget\n",
            "Installing collected packages: wget\n",
            "Successfully installed wget-3.2\n"
          ]
        }
      ],
      "source": [
        "pip install wget"
      ]
    },
    {
      "cell_type": "code",
      "execution_count": null,
      "metadata": {
        "id": "BNYi-NXAfElq"
      },
      "outputs": [],
      "source": [
        "import os\n",
        "import random\n",
        "import numpy as np\n",
        "import pandas as pd\n",
        "import matplotlib.pyplot as plt\n",
        "\n",
        "%matplotlib inline"
      ]
    },
    {
      "cell_type": "code",
      "execution_count": null,
      "metadata": {
        "id": "HQ5pcYZdfS6f"
      },
      "outputs": [],
      "source": [
        "import tensorflow as tf\n",
        "from tensorflow import keras\n",
        "from tensorflow.keras import layers, models\n",
        "from tensorflow.keras.utils import image_dataset_from_directory\n",
        "from tensorflow.keras.utils import plot_model\n",
        "from tensorflow.keras.preprocessing.image import load_img\n",
        "from tensorflow.keras.preprocessing.image import ImageDataGenerator"
      ]
    },
    {
      "cell_type": "code",
      "execution_count": null,
      "metadata": {
        "id": "kmjlXNaRinff"
      },
      "outputs": [],
      "source": [
        "import wget\n",
        "from zipfile import ZipFile"
      ]
    },
    {
      "cell_type": "markdown",
      "metadata": {
        "id": "9Z3eZO_2zm7A"
      },
      "source": [
        "## Preparing the images dataset"
      ]
    },
    {
      "cell_type": "markdown",
      "metadata": {
        "id": "rrgVeGCI4ZIt"
      },
      "source": [
        "### Downloading the dataset"
      ]
    },
    {
      "cell_type": "code",
      "execution_count": null,
      "metadata": {
        "colab": {
          "base_uri": "https://localhost:8080/"
        },
        "id": "ILyLa4CxiSXn",
        "outputId": "03d3f99a-4778-47e6-91f8-b98a2c850dde"
      },
      "outputs": [
        {
          "name": "stdout",
          "output_type": "stream",
          "text": [
            "--2022-12-18 21:54:25--  https://github.com/carrionalfredo/Capstone_1/raw/main/dataset/Pistachio_image_Dataset.zip\n",
            "Resolving github.com (github.com)... 140.82.113.3\n",
            "Connecting to github.com (github.com)|140.82.113.3|:443... connected.\n",
            "HTTP request sent, awaiting response... 302 Found\n",
            "Location: https://raw.githubusercontent.com/carrionalfredo/Capstone_1/main/dataset/Pistachio_image_Dataset.zip [following]\n",
            "--2022-12-18 21:54:25--  https://raw.githubusercontent.com/carrionalfredo/Capstone_1/main/dataset/Pistachio_image_Dataset.zip\n",
            "Resolving raw.githubusercontent.com (raw.githubusercontent.com)... 185.199.108.133, 185.199.109.133, 185.199.110.133, ...\n",
            "Connecting to raw.githubusercontent.com (raw.githubusercontent.com)|185.199.108.133|:443... connected.\n",
            "HTTP request sent, awaiting response... 200 OK\n",
            "Length: 25689033 (24M) [application/zip]\n",
            "Saving to: ‘Pistachio_image_Dataset.zip’\n",
            "\n",
            "Pistachio_image_Dat 100%[===================>]  24.50M   110MB/s    in 0.2s    \n",
            "\n",
            "Last-modified header missing -- time-stamps turned off.\n",
            "2022-12-18 21:54:26 (110 MB/s) - ‘Pistachio_image_Dataset.zip’ saved [25689033/25689033]\n",
            "\n"
          ]
        }
      ],
      "source": [
        "!wget -N https://github.com/carrionalfredo/Capstone_1/raw/main/dataset/Pistachio_image_Dataset.zip"
      ]
    },
    {
      "cell_type": "code",
      "execution_count": null,
      "metadata": {
        "id": "KJ2fe4HJkhL2"
      },
      "outputs": [],
      "source": [
        "ZipFile('Pistachio_image_Dataset.zip', 'r').extractall(path='./images')"
      ]
    },
    {
      "cell_type": "markdown",
      "metadata": {
        "id": "VOcrozsKT3Ao"
      },
      "source": [
        "### Load and create train and evaluation images sets"
      ]
    },
    {
      "cell_type": "code",
      "execution_count": null,
      "metadata": {
        "id": "iPND6J-VT3Ao"
      },
      "outputs": [],
      "source": [
        "batch_size = 32\n",
        "img_height = 150\n",
        "img_width = 150"
      ]
    },
    {
      "cell_type": "code",
      "execution_count": null,
      "metadata": {
        "colab": {
          "base_uri": "https://localhost:8080/"
        },
        "id": "-udIOt7hT3Ao",
        "outputId": "2c3499ae-268a-4f6b-ffd5-fdd491d9c812"
      },
      "outputs": [
        {
          "name": "stdout",
          "output_type": "stream",
          "text": [
            "Found 2148 files belonging to 2 classes.\n",
            "Using 1719 files for training.\n"
          ]
        }
      ],
      "source": [
        "train_ds = tf.keras.utils.image_dataset_from_directory(\n",
        "  './images/',\n",
        "  validation_split=0.2,\n",
        "  seed = 1,\n",
        "  subset=\"training\",\n",
        "  image_size=(img_height, img_width),\n",
        "  batch_size=batch_size)"
      ]
    },
    {
      "cell_type": "code",
      "execution_count": null,
      "metadata": {
        "colab": {
          "base_uri": "https://localhost:8080/"
        },
        "id": "ogzjxSVlT3Ap",
        "outputId": "8aeb1cc7-46c2-4f79-a422-3e0b56a51d07"
      },
      "outputs": [
        {
          "name": "stdout",
          "output_type": "stream",
          "text": [
            "Found 2148 files belonging to 2 classes.\n",
            "Using 429 files for validation.\n"
          ]
        }
      ],
      "source": [
        "val_ds = tf.keras.utils.image_dataset_from_directory(\n",
        "  './images/',\n",
        "  validation_split=0.2,\n",
        "  seed = 1,\n",
        "  subset=\"validation\",\n",
        "  image_size=(img_height, img_width),\n",
        "  batch_size=batch_size)"
      ]
    },
    {
      "cell_type": "code",
      "execution_count": null,
      "metadata": {
        "colab": {
          "base_uri": "https://localhost:8080/"
        },
        "id": "JMrCshMHT3Ap",
        "outputId": "aedbc631-a24a-42a1-c6a6-3cbfbfc79fc4"
      },
      "outputs": [
        {
          "name": "stdout",
          "output_type": "stream",
          "text": [
            "['Kirmizi_Pistachio', 'Siirt_Pistachio']\n"
          ]
        }
      ],
      "source": [
        "class_names = train_ds.class_names\n",
        "print(class_names)"
      ]
    },
    {
      "cell_type": "markdown",
      "metadata": {
        "id": "pEuTnbagrusu"
      },
      "source": [
        "## Building the model"
      ]
    },
    {
      "cell_type": "code",
      "execution_count": null,
      "metadata": {
        "id": "6v3YsysI2CvZ"
      },
      "outputs": [],
      "source": [
        "# import required packages from Keras\n",
        "from keras.models import Sequential\n",
        "from keras.layers import Rescaling, Input, Dense, Dropout, Conv2D, MaxPool2D, Flatten, Activation"
      ]
    },
    {
      "cell_type": "markdown",
      "metadata": {
        "id": "dm0bTTSDUPz1"
      },
      "source": [
        "### Functions for building model and training the model"
      ]
    },
    {
      "cell_type": "code",
      "execution_count": null,
      "metadata": {
        "id": "StMKYLTp2eLN"
      },
      "outputs": [],
      "source": [
        "def model_build(name, droprate, learning_rate):\n",
        "    model = Sequential(name = name)\n",
        "    \n",
        "    model.add(Rescaling(1./255))\n",
        "    \n",
        "    model.add(Conv2D(32,3,3, input_shape = (150,150,3), activation = 'relu'))\n",
        "    \n",
        "    model.add(MaxPool2D(2,2))\n",
        "    \n",
        "    model.add(Dropout(droprate, seed= 1))\n",
        "    \n",
        "    model.add(Flatten())\n",
        "    \n",
        "    model.add(Dense(32, activation='relu'))\n",
        "    \n",
        "    model.add(Dense(2, activation='softmax', name = 'output'))\n",
        "    \n",
        "    model.compile(\n",
        "      optimizer = keras.optimizers.Adam(\n",
        "          learning_rate = learning_rate\n",
        "          ),\n",
        "      loss=keras.losses.SparseCategoricalCrossentropy(),\n",
        "          metrics=['accuracy']\n",
        "          )\n",
        "    return model"
      ]
    },
    {
      "cell_type": "code",
      "execution_count": null,
      "metadata": {
        "id": "UvZ0JpV-3QNG"
      },
      "outputs": [],
      "source": [
        "def train_model(name, droprate, learning_rate, batch_size, epochs):\n",
        "  model = model_build(name, droprate, learning_rate)\n",
        "  history = model.fit(\n",
        "      train_ds,\n",
        "      validation_data=val_ds,\n",
        "      epochs=epochs,\n",
        "      batch_size=batch_size,\n",
        "      )\n",
        "  return model, history.history"
      ]
    },
    {
      "cell_type": "markdown",
      "metadata": {
        "id": "JeoizEgMRatB"
      },
      "source": [
        "Inicial values for hyperparameters"
      ]
    },
    {
      "cell_type": "code",
      "execution_count": null,
      "metadata": {
        "id": "t8nCIWP2RVUi"
      },
      "outputs": [],
      "source": [
        "droprate = 0.5\n",
        "learning_rate=0.001\n",
        "epochs = 100"
      ]
    },
    {
      "cell_type": "markdown",
      "metadata": {
        "id": "2Y-sLRHN4o-S"
      },
      "source": [
        "## Training and tuning the model"
      ]
    },
    {
      "cell_type": "markdown",
      "metadata": {
        "id": "c0DSY_uhaTlc"
      },
      "source": [
        "### Base model"
      ]
    },
    {
      "cell_type": "code",
      "execution_count": null,
      "metadata": {
        "colab": {
          "base_uri": "https://localhost:8080/"
        },
        "id": "K7WEq1lAYxUM",
        "outputId": "b0b698e6-0a90-4568-8bf9-e24e30c8ef04"
      },
      "outputs": [
        {
          "name": "stdout",
          "output_type": "stream",
          "text": [
            "Epoch 1/100\n",
            "54/54 [==============================] - 14s 102ms/step - loss: 0.5166 - accuracy: 0.7382 - val_loss: 0.3951 - val_accuracy: 0.8252\n",
            "Epoch 2/100\n",
            "54/54 [==============================] - 6s 107ms/step - loss: 0.3847 - accuracy: 0.8168 - val_loss: 0.3655 - val_accuracy: 0.8462\n",
            "Epoch 3/100\n",
            "54/54 [==============================] - 3s 47ms/step - loss: 0.3687 - accuracy: 0.8226 - val_loss: 0.3457 - val_accuracy: 0.8462\n",
            "Epoch 4/100\n",
            "54/54 [==============================] - 3s 49ms/step - loss: 0.3439 - accuracy: 0.8487 - val_loss: 0.3336 - val_accuracy: 0.8671\n",
            "Epoch 5/100\n",
            "54/54 [==============================] - 3s 48ms/step - loss: 0.3413 - accuracy: 0.8458 - val_loss: 0.3262 - val_accuracy: 0.8765\n",
            "Epoch 6/100\n",
            "54/54 [==============================] - 3s 48ms/step - loss: 0.3119 - accuracy: 0.8604 - val_loss: 0.3847 - val_accuracy: 0.8228\n",
            "Epoch 7/100\n",
            "54/54 [==============================] - 3s 47ms/step - loss: 0.3184 - accuracy: 0.8528 - val_loss: 0.3119 - val_accuracy: 0.8718\n",
            "Epoch 8/100\n",
            "54/54 [==============================] - 3s 48ms/step - loss: 0.3023 - accuracy: 0.8691 - val_loss: 0.3225 - val_accuracy: 0.8741\n",
            "Epoch 9/100\n",
            "54/54 [==============================] - 3s 47ms/step - loss: 0.2931 - accuracy: 0.8738 - val_loss: 0.3155 - val_accuracy: 0.8788\n",
            "Epoch 10/100\n",
            "54/54 [==============================] - 3s 47ms/step - loss: 0.2736 - accuracy: 0.8807 - val_loss: 0.3045 - val_accuracy: 0.8858\n",
            "Epoch 11/100\n",
            "54/54 [==============================] - 3s 47ms/step - loss: 0.2600 - accuracy: 0.8813 - val_loss: 0.2903 - val_accuracy: 0.8858\n",
            "Epoch 12/100\n",
            "54/54 [==============================] - 3s 48ms/step - loss: 0.2559 - accuracy: 0.8947 - val_loss: 0.3241 - val_accuracy: 0.8578\n",
            "Epoch 13/100\n",
            "54/54 [==============================] - 3s 48ms/step - loss: 0.2522 - accuracy: 0.8912 - val_loss: 0.3023 - val_accuracy: 0.8834\n",
            "Epoch 14/100\n",
            "54/54 [==============================] - 3s 48ms/step - loss: 0.2404 - accuracy: 0.8941 - val_loss: 0.3151 - val_accuracy: 0.8718\n",
            "Epoch 15/100\n",
            "54/54 [==============================] - 3s 48ms/step - loss: 0.2318 - accuracy: 0.8988 - val_loss: 0.2981 - val_accuracy: 0.8858\n",
            "Epoch 16/100\n",
            "54/54 [==============================] - 3s 48ms/step - loss: 0.2225 - accuracy: 0.9029 - val_loss: 0.3483 - val_accuracy: 0.8392\n",
            "Epoch 17/100\n",
            "54/54 [==============================] - 3s 48ms/step - loss: 0.2317 - accuracy: 0.9069 - val_loss: 0.2941 - val_accuracy: 0.8834\n",
            "Epoch 18/100\n",
            "54/54 [==============================] - 3s 48ms/step - loss: 0.2038 - accuracy: 0.9220 - val_loss: 0.2994 - val_accuracy: 0.8858\n",
            "Epoch 19/100\n",
            "54/54 [==============================] - 3s 48ms/step - loss: 0.2053 - accuracy: 0.9110 - val_loss: 0.3149 - val_accuracy: 0.8811\n",
            "Epoch 20/100\n",
            "54/54 [==============================] - 3s 49ms/step - loss: 0.1932 - accuracy: 0.9168 - val_loss: 0.2845 - val_accuracy: 0.8928\n",
            "Epoch 21/100\n",
            "54/54 [==============================] - 3s 48ms/step - loss: 0.2047 - accuracy: 0.9145 - val_loss: 0.2917 - val_accuracy: 0.8858\n",
            "Epoch 22/100\n",
            "54/54 [==============================] - 3s 48ms/step - loss: 0.1833 - accuracy: 0.9162 - val_loss: 0.2984 - val_accuracy: 0.8765\n",
            "Epoch 23/100\n",
            "54/54 [==============================] - 3s 47ms/step - loss: 0.1959 - accuracy: 0.9209 - val_loss: 0.3046 - val_accuracy: 0.8834\n",
            "Epoch 24/100\n",
            "54/54 [==============================] - 3s 48ms/step - loss: 0.1929 - accuracy: 0.9145 - val_loss: 0.3371 - val_accuracy: 0.8485\n",
            "Epoch 25/100\n",
            "54/54 [==============================] - 3s 47ms/step - loss: 0.1685 - accuracy: 0.9348 - val_loss: 0.2866 - val_accuracy: 0.8998\n",
            "Epoch 26/100\n",
            "54/54 [==============================] - 3s 49ms/step - loss: 0.1789 - accuracy: 0.9296 - val_loss: 0.3072 - val_accuracy: 0.8858\n",
            "Epoch 27/100\n",
            "54/54 [==============================] - 3s 48ms/step - loss: 0.1561 - accuracy: 0.9418 - val_loss: 0.2962 - val_accuracy: 0.8951\n",
            "Epoch 28/100\n",
            "54/54 [==============================] - 3s 48ms/step - loss: 0.1584 - accuracy: 0.9331 - val_loss: 0.3079 - val_accuracy: 0.8858\n",
            "Epoch 29/100\n",
            "54/54 [==============================] - 3s 50ms/step - loss: 0.1500 - accuracy: 0.9407 - val_loss: 0.2952 - val_accuracy: 0.8974\n",
            "Epoch 30/100\n",
            "54/54 [==============================] - 3s 48ms/step - loss: 0.1468 - accuracy: 0.9412 - val_loss: 0.2991 - val_accuracy: 0.8811\n",
            "Epoch 31/100\n",
            "54/54 [==============================] - 3s 47ms/step - loss: 0.1377 - accuracy: 0.9459 - val_loss: 0.2930 - val_accuracy: 0.8788\n",
            "Epoch 32/100\n",
            "54/54 [==============================] - 3s 48ms/step - loss: 0.1588 - accuracy: 0.9314 - val_loss: 0.3059 - val_accuracy: 0.8811\n",
            "Epoch 33/100\n",
            "54/54 [==============================] - 3s 48ms/step - loss: 0.1301 - accuracy: 0.9482 - val_loss: 0.2942 - val_accuracy: 0.8974\n",
            "Epoch 34/100\n",
            "54/54 [==============================] - 3s 48ms/step - loss: 0.1487 - accuracy: 0.9337 - val_loss: 0.3162 - val_accuracy: 0.8858\n",
            "Epoch 35/100\n",
            "54/54 [==============================] - 3s 49ms/step - loss: 0.1376 - accuracy: 0.9476 - val_loss: 0.2921 - val_accuracy: 0.8998\n",
            "Epoch 36/100\n",
            "54/54 [==============================] - 3s 48ms/step - loss: 0.1305 - accuracy: 0.9482 - val_loss: 0.3062 - val_accuracy: 0.8998\n",
            "Epoch 37/100\n",
            "54/54 [==============================] - 3s 47ms/step - loss: 0.1312 - accuracy: 0.9471 - val_loss: 0.2926 - val_accuracy: 0.9021\n",
            "Epoch 38/100\n",
            "54/54 [==============================] - 3s 48ms/step - loss: 0.1160 - accuracy: 0.9517 - val_loss: 0.3143 - val_accuracy: 0.8881\n",
            "Epoch 39/100\n",
            "54/54 [==============================] - 3s 48ms/step - loss: 0.1100 - accuracy: 0.9570 - val_loss: 0.3106 - val_accuracy: 0.8904\n",
            "Epoch 40/100\n",
            "54/54 [==============================] - 3s 48ms/step - loss: 0.1042 - accuracy: 0.9604 - val_loss: 0.3173 - val_accuracy: 0.8974\n",
            "Epoch 41/100\n",
            "54/54 [==============================] - 3s 47ms/step - loss: 0.1131 - accuracy: 0.9552 - val_loss: 0.3143 - val_accuracy: 0.8881\n",
            "Epoch 42/100\n",
            "54/54 [==============================] - 3s 48ms/step - loss: 0.1026 - accuracy: 0.9570 - val_loss: 0.3022 - val_accuracy: 0.9021\n",
            "Epoch 43/100\n",
            "54/54 [==============================] - 3s 47ms/step - loss: 0.0952 - accuracy: 0.9616 - val_loss: 0.3066 - val_accuracy: 0.9091\n",
            "Epoch 44/100\n",
            "54/54 [==============================] - 3s 47ms/step - loss: 0.1057 - accuracy: 0.9593 - val_loss: 0.3670 - val_accuracy: 0.8811\n",
            "Epoch 45/100\n",
            "54/54 [==============================] - 3s 47ms/step - loss: 0.1149 - accuracy: 0.9564 - val_loss: 0.3209 - val_accuracy: 0.9021\n",
            "Epoch 46/100\n",
            "54/54 [==============================] - 3s 48ms/step - loss: 0.0969 - accuracy: 0.9599 - val_loss: 0.3202 - val_accuracy: 0.9091\n",
            "Epoch 47/100\n",
            "54/54 [==============================] - 3s 48ms/step - loss: 0.0857 - accuracy: 0.9697 - val_loss: 0.3326 - val_accuracy: 0.8998\n",
            "Epoch 48/100\n",
            "54/54 [==============================] - 3s 48ms/step - loss: 0.0856 - accuracy: 0.9692 - val_loss: 0.3379 - val_accuracy: 0.8974\n",
            "Epoch 49/100\n",
            "54/54 [==============================] - 3s 48ms/step - loss: 0.0858 - accuracy: 0.9657 - val_loss: 0.3218 - val_accuracy: 0.9068\n",
            "Epoch 50/100\n",
            "54/54 [==============================] - 3s 48ms/step - loss: 0.0749 - accuracy: 0.9709 - val_loss: 0.3629 - val_accuracy: 0.8904\n",
            "Epoch 51/100\n",
            "54/54 [==============================] - 3s 48ms/step - loss: 0.0768 - accuracy: 0.9703 - val_loss: 0.3238 - val_accuracy: 0.9114\n",
            "Epoch 52/100\n",
            "54/54 [==============================] - 3s 48ms/step - loss: 0.0768 - accuracy: 0.9721 - val_loss: 0.3534 - val_accuracy: 0.8928\n",
            "Epoch 53/100\n",
            "54/54 [==============================] - 3s 48ms/step - loss: 0.0810 - accuracy: 0.9686 - val_loss: 0.3460 - val_accuracy: 0.8974\n",
            "Epoch 54/100\n",
            "54/54 [==============================] - 3s 48ms/step - loss: 0.0724 - accuracy: 0.9744 - val_loss: 0.3402 - val_accuracy: 0.8998\n",
            "Epoch 55/100\n",
            "54/54 [==============================] - 3s 47ms/step - loss: 0.0698 - accuracy: 0.9750 - val_loss: 0.3698 - val_accuracy: 0.8834\n",
            "Epoch 56/100\n",
            "54/54 [==============================] - 4s 73ms/step - loss: 0.0782 - accuracy: 0.9680 - val_loss: 0.3582 - val_accuracy: 0.9021\n",
            "Epoch 57/100\n",
            "54/54 [==============================] - 3s 48ms/step - loss: 0.0670 - accuracy: 0.9761 - val_loss: 0.3551 - val_accuracy: 0.9068\n",
            "Epoch 58/100\n",
            "54/54 [==============================] - 3s 47ms/step - loss: 0.0624 - accuracy: 0.9750 - val_loss: 0.4352 - val_accuracy: 0.8904\n",
            "Epoch 59/100\n",
            "54/54 [==============================] - 3s 48ms/step - loss: 0.0684 - accuracy: 0.9773 - val_loss: 0.3695 - val_accuracy: 0.9021\n",
            "Epoch 60/100\n",
            "54/54 [==============================] - 3s 48ms/step - loss: 0.0634 - accuracy: 0.9744 - val_loss: 0.3796 - val_accuracy: 0.8928\n",
            "Epoch 61/100\n",
            "54/54 [==============================] - 3s 48ms/step - loss: 0.0645 - accuracy: 0.9750 - val_loss: 0.3675 - val_accuracy: 0.9044\n",
            "Epoch 62/100\n",
            "54/54 [==============================] - 3s 47ms/step - loss: 0.0722 - accuracy: 0.9703 - val_loss: 0.3543 - val_accuracy: 0.9021\n",
            "Epoch 63/100\n",
            "54/54 [==============================] - 3s 48ms/step - loss: 0.0666 - accuracy: 0.9761 - val_loss: 0.3950 - val_accuracy: 0.8974\n",
            "Epoch 64/100\n",
            "54/54 [==============================] - 3s 47ms/step - loss: 0.0485 - accuracy: 0.9855 - val_loss: 0.4200 - val_accuracy: 0.8998\n",
            "Epoch 65/100\n",
            "54/54 [==============================] - 3s 47ms/step - loss: 0.0541 - accuracy: 0.9796 - val_loss: 0.3935 - val_accuracy: 0.9044\n",
            "Epoch 66/100\n",
            "54/54 [==============================] - 3s 47ms/step - loss: 0.0570 - accuracy: 0.9779 - val_loss: 0.4457 - val_accuracy: 0.8974\n",
            "Epoch 67/100\n",
            "54/54 [==============================] - 3s 48ms/step - loss: 0.0575 - accuracy: 0.9779 - val_loss: 0.4031 - val_accuracy: 0.8951\n",
            "Epoch 68/100\n",
            "54/54 [==============================] - 3s 48ms/step - loss: 0.0505 - accuracy: 0.9843 - val_loss: 0.4114 - val_accuracy: 0.9068\n",
            "Epoch 69/100\n",
            "54/54 [==============================] - 3s 49ms/step - loss: 0.0504 - accuracy: 0.9808 - val_loss: 0.4232 - val_accuracy: 0.9021\n",
            "Epoch 70/100\n",
            "54/54 [==============================] - 3s 47ms/step - loss: 0.0523 - accuracy: 0.9820 - val_loss: 0.3995 - val_accuracy: 0.9091\n",
            "Epoch 71/100\n",
            "54/54 [==============================] - 3s 47ms/step - loss: 0.0399 - accuracy: 0.9872 - val_loss: 0.3758 - val_accuracy: 0.9068\n",
            "Epoch 72/100\n",
            "54/54 [==============================] - 3s 48ms/step - loss: 0.0457 - accuracy: 0.9860 - val_loss: 0.4028 - val_accuracy: 0.9114\n",
            "Epoch 73/100\n",
            "54/54 [==============================] - 3s 48ms/step - loss: 0.0598 - accuracy: 0.9796 - val_loss: 0.4160 - val_accuracy: 0.8858\n",
            "Epoch 74/100\n",
            "54/54 [==============================] - 3s 47ms/step - loss: 0.0514 - accuracy: 0.9791 - val_loss: 0.3944 - val_accuracy: 0.9091\n",
            "Epoch 75/100\n",
            "54/54 [==============================] - 3s 47ms/step - loss: 0.0408 - accuracy: 0.9878 - val_loss: 0.3918 - val_accuracy: 0.9114\n",
            "Epoch 76/100\n",
            "54/54 [==============================] - 3s 48ms/step - loss: 0.0515 - accuracy: 0.9831 - val_loss: 0.3947 - val_accuracy: 0.9114\n",
            "Epoch 77/100\n",
            "54/54 [==============================] - 3s 47ms/step - loss: 0.0364 - accuracy: 0.9878 - val_loss: 0.3995 - val_accuracy: 0.9114\n",
            "Epoch 78/100\n",
            "54/54 [==============================] - 3s 48ms/step - loss: 0.0434 - accuracy: 0.9860 - val_loss: 0.4003 - val_accuracy: 0.9091\n",
            "Epoch 79/100\n",
            "54/54 [==============================] - 3s 48ms/step - loss: 0.0474 - accuracy: 0.9866 - val_loss: 0.3985 - val_accuracy: 0.9044\n",
            "Epoch 80/100\n",
            "54/54 [==============================] - 3s 47ms/step - loss: 0.0400 - accuracy: 0.9884 - val_loss: 0.3853 - val_accuracy: 0.9091\n",
            "Epoch 81/100\n",
            "54/54 [==============================] - 3s 48ms/step - loss: 0.0474 - accuracy: 0.9796 - val_loss: 0.4031 - val_accuracy: 0.9021\n",
            "Epoch 82/100\n",
            "54/54 [==============================] - 3s 47ms/step - loss: 0.0334 - accuracy: 0.9889 - val_loss: 0.4129 - val_accuracy: 0.9091\n",
            "Epoch 83/100\n",
            "54/54 [==============================] - 3s 48ms/step - loss: 0.0290 - accuracy: 0.9919 - val_loss: 0.4239 - val_accuracy: 0.8998\n",
            "Epoch 84/100\n",
            "54/54 [==============================] - 3s 48ms/step - loss: 0.0334 - accuracy: 0.9895 - val_loss: 0.4186 - val_accuracy: 0.9161\n",
            "Epoch 85/100\n",
            "54/54 [==============================] - 3s 47ms/step - loss: 0.0388 - accuracy: 0.9901 - val_loss: 0.4253 - val_accuracy: 0.9091\n",
            "Epoch 86/100\n",
            "54/54 [==============================] - 3s 47ms/step - loss: 0.0393 - accuracy: 0.9849 - val_loss: 0.4118 - val_accuracy: 0.9044\n",
            "Epoch 87/100\n",
            "54/54 [==============================] - 3s 47ms/step - loss: 0.0369 - accuracy: 0.9849 - val_loss: 0.4068 - val_accuracy: 0.9068\n",
            "Epoch 88/100\n",
            "54/54 [==============================] - 3s 47ms/step - loss: 0.0311 - accuracy: 0.9895 - val_loss: 0.4193 - val_accuracy: 0.9114\n",
            "Epoch 89/100\n",
            "54/54 [==============================] - 3s 49ms/step - loss: 0.0542 - accuracy: 0.9825 - val_loss: 0.3715 - val_accuracy: 0.9114\n",
            "Epoch 90/100\n",
            "54/54 [==============================] - 3s 49ms/step - loss: 0.0220 - accuracy: 0.9924 - val_loss: 0.3882 - val_accuracy: 0.9068\n",
            "Epoch 91/100\n",
            "54/54 [==============================] - 3s 47ms/step - loss: 0.0354 - accuracy: 0.9889 - val_loss: 0.4292 - val_accuracy: 0.9021\n",
            "Epoch 92/100\n",
            "54/54 [==============================] - 3s 47ms/step - loss: 0.0353 - accuracy: 0.9860 - val_loss: 0.3978 - val_accuracy: 0.9138\n",
            "Epoch 93/100\n",
            "54/54 [==============================] - 3s 48ms/step - loss: 0.0302 - accuracy: 0.9901 - val_loss: 0.4141 - val_accuracy: 0.9068\n",
            "Epoch 94/100\n",
            "54/54 [==============================] - 3s 47ms/step - loss: 0.0255 - accuracy: 0.9901 - val_loss: 0.4402 - val_accuracy: 0.9091\n",
            "Epoch 95/100\n",
            "54/54 [==============================] - 3s 48ms/step - loss: 0.0272 - accuracy: 0.9901 - val_loss: 0.4471 - val_accuracy: 0.9114\n",
            "Epoch 96/100\n",
            "54/54 [==============================] - 3s 48ms/step - loss: 0.0265 - accuracy: 0.9889 - val_loss: 0.4318 - val_accuracy: 0.9114\n",
            "Epoch 97/100\n",
            "54/54 [==============================] - 3s 48ms/step - loss: 0.0425 - accuracy: 0.9855 - val_loss: 0.4673 - val_accuracy: 0.9021\n",
            "Epoch 98/100\n",
            "54/54 [==============================] - 3s 48ms/step - loss: 0.0318 - accuracy: 0.9878 - val_loss: 0.4601 - val_accuracy: 0.8904\n",
            "Epoch 99/100\n",
            "54/54 [==============================] - 3s 48ms/step - loss: 0.0400 - accuracy: 0.9831 - val_loss: 0.5230 - val_accuracy: 0.8998\n",
            "Epoch 100/100\n",
            "54/54 [==============================] - 3s 48ms/step - loss: 0.0342 - accuracy: 0.9860 - val_loss: 0.4130 - val_accuracy: 0.9184\n"
          ]
        }
      ],
      "source": [
        "results_bm = train_model(name= 'Base_model', droprate=droprate, learning_rate=learning_rate, batch_size=batch_size, epochs=epochs)"
      ]
    },
    {
      "cell_type": "code",
      "execution_count": null,
      "metadata": {
        "colab": {
          "base_uri": "https://localhost:8080/",
          "height": 865
        },
        "id": "-38WhLCIDWIn",
        "outputId": "8c493419-b827-4d5d-8ae9-6e06c1aa96ae"
      },
      "outputs": [
        {
          "data": {
            "image/png": "[encoded data removed]",
            "text/plain": [
              "<IPython.core.display.Image object>"
            ]
          },
          "execution_count": 23,
          "metadata": {},
          "output_type": "execute_result"
        }
      ],
      "source": [
        "keras.utils.plot_model(\n",
        "    results_bm[0],\n",
        "    to_file=\"base_model.png\",\n",
        "    show_shapes=True\n",
        "    )"
      ]
    },
    {
      "cell_type": "code",
      "execution_count": null,
      "metadata": {
        "colab": {
          "base_uri": "https://localhost:8080/",
          "height": 421
        },
        "id": "nb5PIBa96ydt",
        "outputId": "b99c29b0-e0fa-4dd6-b864-45b387cd0833"
      },
      "outputs": [
        {
          "data": {
            "image/png": "[encoded data removed]",
            "text/plain": [
              "<Figure size 720x432 with 1 Axes>"
            ]
          },
          "metadata": {
            "needs_background": "light"
          },
          "output_type": "display_data"
        },
        {
          "data": {
            "text/plain": [
              "<Figure size 432x288 with 0 Axes>"
            ]
          },
          "metadata": {},
          "output_type": "display_data"
        }
      ],
      "source": [
        "# Plot training & validation accuracy and loss values\n",
        "pd.DataFrame(results_bm[1]).plot(figsize=(10, 6))\n",
        "plt.title('Base Model')\n",
        "plt.ylabel('Accuracy, Loss')\n",
        "plt.xlabel('Epoch')\n",
        "plt.grid(True)\n",
        "plt.gca().set_ylim(0, 1)\n",
        "plt.show()"
      ]
    },
    {
      "cell_type": "markdown",
      "metadata": {
        "id": "AlS_8qRe7_-S"
      },
      "source": [
        "### Tuning the learning rate for the Adam optimizer"
      ]
    },
    {
      "cell_type": "code",
      "execution_count": null,
      "metadata": {
        "colab": {
          "base_uri": "https://localhost:8080/"
        },
        "id": "t7TYJDeQsB4P",
        "outputId": "0fca2caf-b552-4821-8f83-16549f5e87c4"
      },
      "outputs": [
        {
          "name": "stdout",
          "output_type": "stream",
          "text": [
            "0.0001\n",
            "Epoch 1/100\n",
            "54/54 [==============================] - 3s 50ms/step - loss: 0.5572 - accuracy: 0.7126 - val_loss: 0.4389 - val_accuracy: 0.7902\n",
            "Epoch 2/100\n",
            "54/54 [==============================] - 3s 47ms/step - loss: 0.4108 - accuracy: 0.8057 - val_loss: 0.3939 - val_accuracy: 0.8182\n",
            "Epoch 3/100\n",
            "54/54 [==============================] - 3s 47ms/step - loss: 0.3916 - accuracy: 0.8092 - val_loss: 0.3600 - val_accuracy: 0.8392\n",
            "Epoch 4/100\n",
            "54/54 [==============================] - 3s 47ms/step - loss: 0.3941 - accuracy: 0.8197 - val_loss: 0.3503 - val_accuracy: 0.8485\n",
            "Epoch 5/100\n",
            "54/54 [==============================] - 3s 48ms/step - loss: 0.3755 - accuracy: 0.8272 - val_loss: 0.3519 - val_accuracy: 0.8415\n",
            "Epoch 6/100\n",
            "54/54 [==============================] - 3s 47ms/step - loss: 0.3423 - accuracy: 0.8464 - val_loss: 0.3427 - val_accuracy: 0.8578\n",
            "Epoch 7/100\n",
            "54/54 [==============================] - 3s 47ms/step - loss: 0.3437 - accuracy: 0.8447 - val_loss: 0.3209 - val_accuracy: 0.8648\n",
            "Epoch 8/100\n",
            "54/54 [==============================] - 3s 48ms/step - loss: 0.3347 - accuracy: 0.8458 - val_loss: 0.3145 - val_accuracy: 0.8718\n",
            "Epoch 9/100\n",
            "54/54 [==============================] - 3s 47ms/step - loss: 0.3238 - accuracy: 0.8627 - val_loss: 0.3103 - val_accuracy: 0.8741\n",
            "Epoch 10/100\n",
            "54/54 [==============================] - 3s 47ms/step - loss: 0.3100 - accuracy: 0.8662 - val_loss: 0.3072 - val_accuracy: 0.8765\n",
            "Epoch 11/100\n",
            "54/54 [==============================] - 3s 48ms/step - loss: 0.3113 - accuracy: 0.8615 - val_loss: 0.2998 - val_accuracy: 0.8834\n",
            "Epoch 12/100\n",
            "54/54 [==============================] - 3s 49ms/step - loss: 0.3094 - accuracy: 0.8650 - val_loss: 0.3133 - val_accuracy: 0.8788\n",
            "Epoch 13/100\n",
            "54/54 [==============================] - 3s 48ms/step - loss: 0.3163 - accuracy: 0.8592 - val_loss: 0.2968 - val_accuracy: 0.8881\n",
            "Epoch 14/100\n",
            "54/54 [==============================] - 3s 48ms/step - loss: 0.2886 - accuracy: 0.8773 - val_loss: 0.2884 - val_accuracy: 0.8951\n",
            "Epoch 15/100\n",
            "54/54 [==============================] - 3s 47ms/step - loss: 0.2960 - accuracy: 0.8645 - val_loss: 0.3093 - val_accuracy: 0.8671\n",
            "Epoch 16/100\n",
            "54/54 [==============================] - 3s 47ms/step - loss: 0.2818 - accuracy: 0.8807 - val_loss: 0.3021 - val_accuracy: 0.8788\n",
            "Epoch 17/100\n",
            "54/54 [==============================] - 3s 47ms/step - loss: 0.2764 - accuracy: 0.8679 - val_loss: 0.2820 - val_accuracy: 0.8974\n",
            "Epoch 18/100\n",
            "54/54 [==============================] - 3s 48ms/step - loss: 0.2655 - accuracy: 0.8871 - val_loss: 0.2840 - val_accuracy: 0.8951\n",
            "Epoch 19/100\n",
            "54/54 [==============================] - 3s 48ms/step - loss: 0.2658 - accuracy: 0.8773 - val_loss: 0.2784 - val_accuracy: 0.9044\n",
            "Epoch 20/100\n",
            "54/54 [==============================] - 3s 48ms/step - loss: 0.2876 - accuracy: 0.8697 - val_loss: 0.2885 - val_accuracy: 0.8904\n",
            "Epoch 21/100\n",
            "54/54 [==============================] - 3s 48ms/step - loss: 0.2734 - accuracy: 0.8784 - val_loss: 0.2762 - val_accuracy: 0.9068\n",
            "Epoch 22/100\n",
            "54/54 [==============================] - 3s 48ms/step - loss: 0.2553 - accuracy: 0.8976 - val_loss: 0.2861 - val_accuracy: 0.8974\n",
            "Epoch 23/100\n",
            "54/54 [==============================] - 3s 48ms/step - loss: 0.2594 - accuracy: 0.8866 - val_loss: 0.2696 - val_accuracy: 0.9044\n",
            "Epoch 24/100\n",
            "54/54 [==============================] - 3s 48ms/step - loss: 0.2428 - accuracy: 0.8988 - val_loss: 0.2854 - val_accuracy: 0.8881\n",
            "Epoch 25/100\n",
            "54/54 [==============================] - 3s 48ms/step - loss: 0.2469 - accuracy: 0.8918 - val_loss: 0.3009 - val_accuracy: 0.8765\n",
            "Epoch 26/100\n",
            "54/54 [==============================] - 3s 48ms/step - loss: 0.2492 - accuracy: 0.9005 - val_loss: 0.2738 - val_accuracy: 0.8951\n",
            "Epoch 27/100\n",
            "54/54 [==============================] - 3s 48ms/step - loss: 0.2497 - accuracy: 0.8976 - val_loss: 0.2705 - val_accuracy: 0.9091\n",
            "Epoch 28/100\n",
            "54/54 [==============================] - 3s 48ms/step - loss: 0.2409 - accuracy: 0.8965 - val_loss: 0.2642 - val_accuracy: 0.9021\n",
            "Epoch 29/100\n",
            "54/54 [==============================] - 3s 50ms/step - loss: 0.2290 - accuracy: 0.9017 - val_loss: 0.2671 - val_accuracy: 0.8951\n",
            "Epoch 30/100\n",
            "54/54 [==============================] - 3s 48ms/step - loss: 0.2290 - accuracy: 0.9063 - val_loss: 0.2629 - val_accuracy: 0.9091\n",
            "Epoch 31/100\n",
            "54/54 [==============================] - 3s 48ms/step - loss: 0.2283 - accuracy: 0.9029 - val_loss: 0.2624 - val_accuracy: 0.9044\n",
            "Epoch 32/100\n",
            "54/54 [==============================] - 3s 47ms/step - loss: 0.2254 - accuracy: 0.9110 - val_loss: 0.2611 - val_accuracy: 0.9044\n",
            "Epoch 33/100\n",
            "54/54 [==============================] - 3s 49ms/step - loss: 0.2321 - accuracy: 0.9052 - val_loss: 0.2759 - val_accuracy: 0.9044\n",
            "Epoch 34/100\n",
            "54/54 [==============================] - 3s 47ms/step - loss: 0.2277 - accuracy: 0.9046 - val_loss: 0.2642 - val_accuracy: 0.9091\n",
            "Epoch 35/100\n",
            "54/54 [==============================] - 3s 48ms/step - loss: 0.2256 - accuracy: 0.9116 - val_loss: 0.2684 - val_accuracy: 0.9044\n",
            "Epoch 36/100\n",
            "54/54 [==============================] - 3s 48ms/step - loss: 0.2274 - accuracy: 0.9087 - val_loss: 0.2622 - val_accuracy: 0.9068\n",
            "Epoch 37/100\n",
            "54/54 [==============================] - 3s 48ms/step - loss: 0.2223 - accuracy: 0.9098 - val_loss: 0.2620 - val_accuracy: 0.9068\n",
            "Epoch 38/100\n",
            "54/54 [==============================] - 3s 47ms/step - loss: 0.2143 - accuracy: 0.9180 - val_loss: 0.2801 - val_accuracy: 0.8974\n",
            "Epoch 39/100\n",
            "54/54 [==============================] - 3s 47ms/step - loss: 0.2253 - accuracy: 0.9063 - val_loss: 0.2668 - val_accuracy: 0.9138\n",
            "Epoch 40/100\n",
            "54/54 [==============================] - 3s 48ms/step - loss: 0.2094 - accuracy: 0.9127 - val_loss: 0.2583 - val_accuracy: 0.9114\n",
            "Epoch 41/100\n",
            "54/54 [==============================] - 3s 48ms/step - loss: 0.2173 - accuracy: 0.9058 - val_loss: 0.2561 - val_accuracy: 0.9114\n",
            "Epoch 42/100\n",
            "54/54 [==============================] - 3s 48ms/step - loss: 0.2068 - accuracy: 0.9156 - val_loss: 0.2543 - val_accuracy: 0.9161\n",
            "Epoch 43/100\n",
            "54/54 [==============================] - 3s 47ms/step - loss: 0.2132 - accuracy: 0.9145 - val_loss: 0.2615 - val_accuracy: 0.9184\n",
            "Epoch 44/100\n",
            "54/54 [==============================] - 3s 47ms/step - loss: 0.2038 - accuracy: 0.9238 - val_loss: 0.2540 - val_accuracy: 0.9207\n",
            "Epoch 45/100\n",
            "54/54 [==============================] - 3s 48ms/step - loss: 0.1984 - accuracy: 0.9215 - val_loss: 0.2709 - val_accuracy: 0.8928\n",
            "Epoch 46/100\n",
            "54/54 [==============================] - 3s 47ms/step - loss: 0.2095 - accuracy: 0.9075 - val_loss: 0.2616 - val_accuracy: 0.9161\n",
            "Epoch 47/100\n",
            "54/54 [==============================] - 3s 48ms/step - loss: 0.2244 - accuracy: 0.9023 - val_loss: 0.2845 - val_accuracy: 0.8881\n",
            "Epoch 48/100\n",
            "54/54 [==============================] - 3s 47ms/step - loss: 0.2061 - accuracy: 0.9162 - val_loss: 0.2526 - val_accuracy: 0.9138\n",
            "Epoch 49/100\n",
            "54/54 [==============================] - 3s 48ms/step - loss: 0.2145 - accuracy: 0.9139 - val_loss: 0.2979 - val_accuracy: 0.8788\n",
            "Epoch 50/100\n",
            "54/54 [==============================] - 3s 48ms/step - loss: 0.1999 - accuracy: 0.9162 - val_loss: 0.2848 - val_accuracy: 0.8904\n",
            "Epoch 51/100\n",
            "54/54 [==============================] - 3s 47ms/step - loss: 0.1969 - accuracy: 0.9186 - val_loss: 0.2610 - val_accuracy: 0.9161\n",
            "Epoch 52/100\n",
            "54/54 [==============================] - 3s 47ms/step - loss: 0.1948 - accuracy: 0.9191 - val_loss: 0.2505 - val_accuracy: 0.9138\n",
            "Epoch 53/100\n",
            "54/54 [==============================] - 3s 47ms/step - loss: 0.1961 - accuracy: 0.9180 - val_loss: 0.2540 - val_accuracy: 0.9138\n",
            "Epoch 54/100\n",
            "54/54 [==============================] - 3s 47ms/step - loss: 0.1908 - accuracy: 0.9191 - val_loss: 0.2506 - val_accuracy: 0.9138\n",
            "Epoch 55/100\n",
            "54/54 [==============================] - 3s 47ms/step - loss: 0.1921 - accuracy: 0.9290 - val_loss: 0.2514 - val_accuracy: 0.9138\n",
            "Epoch 56/100\n",
            "54/54 [==============================] - 3s 48ms/step - loss: 0.2032 - accuracy: 0.9116 - val_loss: 0.2812 - val_accuracy: 0.8904\n",
            "Epoch 57/100\n",
            "54/54 [==============================] - 3s 47ms/step - loss: 0.1877 - accuracy: 0.9232 - val_loss: 0.2516 - val_accuracy: 0.9231\n",
            "Epoch 58/100\n",
            "54/54 [==============================] - 3s 49ms/step - loss: 0.1905 - accuracy: 0.9232 - val_loss: 0.2480 - val_accuracy: 0.9114\n",
            "Epoch 59/100\n",
            "54/54 [==============================] - 3s 47ms/step - loss: 0.1889 - accuracy: 0.9267 - val_loss: 0.2469 - val_accuracy: 0.9138\n",
            "Epoch 60/100\n",
            "54/54 [==============================] - 3s 47ms/step - loss: 0.1825 - accuracy: 0.9296 - val_loss: 0.2771 - val_accuracy: 0.8858\n",
            "Epoch 61/100\n",
            "54/54 [==============================] - 3s 48ms/step - loss: 0.1908 - accuracy: 0.9186 - val_loss: 0.2472 - val_accuracy: 0.9138\n",
            "Epoch 62/100\n",
            "54/54 [==============================] - 3s 48ms/step - loss: 0.1804 - accuracy: 0.9325 - val_loss: 0.2465 - val_accuracy: 0.9138\n",
            "Epoch 63/100\n",
            "54/54 [==============================] - 3s 47ms/step - loss: 0.1813 - accuracy: 0.9226 - val_loss: 0.2687 - val_accuracy: 0.8974\n",
            "Epoch 64/100\n",
            "54/54 [==============================] - 3s 47ms/step - loss: 0.1812 - accuracy: 0.9273 - val_loss: 0.2478 - val_accuracy: 0.9184\n",
            "Epoch 65/100\n",
            "54/54 [==============================] - 3s 47ms/step - loss: 0.1748 - accuracy: 0.9314 - val_loss: 0.2517 - val_accuracy: 0.9207\n",
            "Epoch 66/100\n",
            "54/54 [==============================] - 3s 48ms/step - loss: 0.1810 - accuracy: 0.9267 - val_loss: 0.2547 - val_accuracy: 0.9207\n",
            "Epoch 67/100\n",
            "54/54 [==============================] - 3s 48ms/step - loss: 0.1776 - accuracy: 0.9232 - val_loss: 0.2460 - val_accuracy: 0.9138\n",
            "Epoch 68/100\n",
            "54/54 [==============================] - 3s 48ms/step - loss: 0.1770 - accuracy: 0.9255 - val_loss: 0.2464 - val_accuracy: 0.9114\n",
            "Epoch 69/100\n",
            "54/54 [==============================] - 3s 47ms/step - loss: 0.1714 - accuracy: 0.9319 - val_loss: 0.2501 - val_accuracy: 0.9114\n",
            "Epoch 70/100\n",
            "54/54 [==============================] - 3s 47ms/step - loss: 0.1826 - accuracy: 0.9203 - val_loss: 0.2607 - val_accuracy: 0.9021\n",
            "Epoch 71/100\n",
            "54/54 [==============================] - 3s 48ms/step - loss: 0.1766 - accuracy: 0.9314 - val_loss: 0.2794 - val_accuracy: 0.8858\n",
            "Epoch 72/100\n",
            "54/54 [==============================] - 3s 48ms/step - loss: 0.1886 - accuracy: 0.9197 - val_loss: 0.2473 - val_accuracy: 0.9161\n",
            "Epoch 73/100\n",
            "54/54 [==============================] - 3s 48ms/step - loss: 0.1740 - accuracy: 0.9331 - val_loss: 0.2467 - val_accuracy: 0.9161\n",
            "Epoch 74/100\n",
            "54/54 [==============================] - 3s 47ms/step - loss: 0.1623 - accuracy: 0.9372 - val_loss: 0.2459 - val_accuracy: 0.9184\n",
            "Epoch 75/100\n",
            "54/54 [==============================] - 3s 48ms/step - loss: 0.1617 - accuracy: 0.9360 - val_loss: 0.2463 - val_accuracy: 0.9231\n",
            "Epoch 76/100\n",
            "54/54 [==============================] - 3s 49ms/step - loss: 0.1647 - accuracy: 0.9401 - val_loss: 0.2515 - val_accuracy: 0.9091\n",
            "Epoch 77/100\n",
            "54/54 [==============================] - 3s 48ms/step - loss: 0.1499 - accuracy: 0.9447 - val_loss: 0.2588 - val_accuracy: 0.8974\n",
            "Epoch 78/100\n",
            "54/54 [==============================] - 3s 49ms/step - loss: 0.1626 - accuracy: 0.9290 - val_loss: 0.2528 - val_accuracy: 0.9231\n",
            "Epoch 79/100\n",
            "54/54 [==============================] - 3s 48ms/step - loss: 0.1713 - accuracy: 0.9354 - val_loss: 0.2593 - val_accuracy: 0.9161\n",
            "Epoch 80/100\n",
            "54/54 [==============================] - 3s 48ms/step - loss: 0.1810 - accuracy: 0.9209 - val_loss: 0.2580 - val_accuracy: 0.9207\n",
            "Epoch 81/100\n",
            "54/54 [==============================] - 3s 48ms/step - loss: 0.1689 - accuracy: 0.9325 - val_loss: 0.2621 - val_accuracy: 0.9068\n",
            "Epoch 82/100\n",
            "54/54 [==============================] - 3s 48ms/step - loss: 0.1613 - accuracy: 0.9372 - val_loss: 0.2503 - val_accuracy: 0.9254\n",
            "Epoch 83/100\n",
            "54/54 [==============================] - 3s 48ms/step - loss: 0.1634 - accuracy: 0.9348 - val_loss: 0.2456 - val_accuracy: 0.9184\n",
            "Epoch 84/100\n",
            "54/54 [==============================] - 3s 48ms/step - loss: 0.1597 - accuracy: 0.9360 - val_loss: 0.2586 - val_accuracy: 0.9091\n",
            "Epoch 85/100\n",
            "54/54 [==============================] - 3s 47ms/step - loss: 0.1540 - accuracy: 0.9389 - val_loss: 0.2460 - val_accuracy: 0.9184\n",
            "Epoch 86/100\n",
            "54/54 [==============================] - 3s 47ms/step - loss: 0.1525 - accuracy: 0.9412 - val_loss: 0.2485 - val_accuracy: 0.9207\n",
            "Epoch 87/100\n",
            "54/54 [==============================] - 3s 48ms/step - loss: 0.1584 - accuracy: 0.9366 - val_loss: 0.2466 - val_accuracy: 0.9184\n",
            "Epoch 88/100\n",
            "54/54 [==============================] - 3s 49ms/step - loss: 0.1478 - accuracy: 0.9389 - val_loss: 0.2479 - val_accuracy: 0.9161\n",
            "Epoch 89/100\n",
            "54/54 [==============================] - 3s 47ms/step - loss: 0.1534 - accuracy: 0.9372 - val_loss: 0.2512 - val_accuracy: 0.9254\n",
            "Epoch 90/100\n",
            "54/54 [==============================] - 3s 48ms/step - loss: 0.1539 - accuracy: 0.9442 - val_loss: 0.2451 - val_accuracy: 0.9207\n",
            "Epoch 91/100\n",
            "54/54 [==============================] - 3s 48ms/step - loss: 0.1616 - accuracy: 0.9314 - val_loss: 0.2445 - val_accuracy: 0.9207\n",
            "Epoch 92/100\n",
            "54/54 [==============================] - 3s 48ms/step - loss: 0.1506 - accuracy: 0.9412 - val_loss: 0.2436 - val_accuracy: 0.9184\n",
            "Epoch 93/100\n",
            "54/54 [==============================] - 3s 48ms/step - loss: 0.1470 - accuracy: 0.9401 - val_loss: 0.2421 - val_accuracy: 0.9207\n",
            "Epoch 94/100\n",
            "54/54 [==============================] - 3s 48ms/step - loss: 0.1429 - accuracy: 0.9418 - val_loss: 0.2435 - val_accuracy: 0.9254\n",
            "Epoch 95/100\n",
            "54/54 [==============================] - 3s 48ms/step - loss: 0.1417 - accuracy: 0.9465 - val_loss: 0.2531 - val_accuracy: 0.9207\n",
            "Epoch 96/100\n",
            "54/54 [==============================] - 3s 49ms/step - loss: 0.1486 - accuracy: 0.9459 - val_loss: 0.2580 - val_accuracy: 0.9091\n",
            "Epoch 97/100\n",
            "54/54 [==============================] - 3s 49ms/step - loss: 0.1454 - accuracy: 0.9418 - val_loss: 0.2439 - val_accuracy: 0.9207\n",
            "Epoch 98/100\n",
            "54/54 [==============================] - 3s 48ms/step - loss: 0.1360 - accuracy: 0.9511 - val_loss: 0.2537 - val_accuracy: 0.9044\n",
            "Epoch 99/100\n",
            "54/54 [==============================] - 3s 48ms/step - loss: 0.1555 - accuracy: 0.9366 - val_loss: 0.2896 - val_accuracy: 0.8858\n",
            "Epoch 100/100\n",
            "54/54 [==============================] - 3s 47ms/step - loss: 0.1465 - accuracy: 0.9453 - val_loss: 0.2520 - val_accuracy: 0.9254\n",
            "0.001\n",
            "Epoch 1/100\n",
            "54/54 [==============================] - 3s 50ms/step - loss: 0.4844 - accuracy: 0.7551 - val_loss: 0.3873 - val_accuracy: 0.8252\n",
            "Epoch 2/100\n",
            "54/54 [==============================] - 3s 48ms/step - loss: 0.3879 - accuracy: 0.8360 - val_loss: 0.3877 - val_accuracy: 0.8112\n",
            "Epoch 3/100\n",
            "54/54 [==============================] - 3s 47ms/step - loss: 0.3632 - accuracy: 0.8435 - val_loss: 0.3758 - val_accuracy: 0.8159\n",
            "Epoch 4/100\n",
            "54/54 [==============================] - 3s 48ms/step - loss: 0.3391 - accuracy: 0.8458 - val_loss: 0.3298 - val_accuracy: 0.8765\n",
            "Epoch 5/100\n",
            "54/54 [==============================] - 3s 48ms/step - loss: 0.3102 - accuracy: 0.8674 - val_loss: 0.3406 - val_accuracy: 0.8555\n",
            "Epoch 6/100\n",
            "54/54 [==============================] - 3s 47ms/step - loss: 0.3088 - accuracy: 0.8563 - val_loss: 0.3429 - val_accuracy: 0.8392\n",
            "Epoch 7/100\n",
            "54/54 [==============================] - 3s 48ms/step - loss: 0.2943 - accuracy: 0.8784 - val_loss: 0.3326 - val_accuracy: 0.8625\n",
            "Epoch 8/100\n",
            "54/54 [==============================] - 3s 47ms/step - loss: 0.2782 - accuracy: 0.8738 - val_loss: 0.3104 - val_accuracy: 0.8671\n",
            "Epoch 9/100\n",
            "54/54 [==============================] - 3s 47ms/step - loss: 0.2647 - accuracy: 0.8906 - val_loss: 0.2967 - val_accuracy: 0.8904\n",
            "Epoch 10/100\n",
            "54/54 [==============================] - 3s 47ms/step - loss: 0.2536 - accuracy: 0.8912 - val_loss: 0.3191 - val_accuracy: 0.8741\n",
            "Epoch 11/100\n",
            "54/54 [==============================] - 3s 47ms/step - loss: 0.2317 - accuracy: 0.9069 - val_loss: 0.3288 - val_accuracy: 0.8671\n",
            "Epoch 12/100\n",
            "54/54 [==============================] - 3s 48ms/step - loss: 0.2332 - accuracy: 0.9017 - val_loss: 0.2984 - val_accuracy: 0.8834\n",
            "Epoch 13/100\n",
            "54/54 [==============================] - 3s 48ms/step - loss: 0.2288 - accuracy: 0.9034 - val_loss: 0.3372 - val_accuracy: 0.8741\n",
            "Epoch 14/100\n",
            "54/54 [==============================] - 3s 47ms/step - loss: 0.2306 - accuracy: 0.8999 - val_loss: 0.3261 - val_accuracy: 0.8811\n",
            "Epoch 15/100\n",
            "54/54 [==============================] - 3s 48ms/step - loss: 0.2050 - accuracy: 0.9104 - val_loss: 0.3539 - val_accuracy: 0.8741\n",
            "Epoch 16/100\n",
            "54/54 [==============================] - 3s 47ms/step - loss: 0.2116 - accuracy: 0.9145 - val_loss: 0.3247 - val_accuracy: 0.8718\n",
            "Epoch 17/100\n",
            "54/54 [==============================] - 3s 48ms/step - loss: 0.1847 - accuracy: 0.9290 - val_loss: 0.3203 - val_accuracy: 0.8741\n",
            "Epoch 18/100\n",
            "54/54 [==============================] - 3s 47ms/step - loss: 0.1867 - accuracy: 0.9226 - val_loss: 0.3095 - val_accuracy: 0.8788\n",
            "Epoch 19/100\n",
            "54/54 [==============================] - 3s 47ms/step - loss: 0.1839 - accuracy: 0.9232 - val_loss: 0.3014 - val_accuracy: 0.8788\n",
            "Epoch 20/100\n",
            "54/54 [==============================] - 3s 47ms/step - loss: 0.1809 - accuracy: 0.9279 - val_loss: 0.3112 - val_accuracy: 0.8765\n",
            "Epoch 21/100\n",
            "54/54 [==============================] - 3s 48ms/step - loss: 0.1683 - accuracy: 0.9325 - val_loss: 0.3205 - val_accuracy: 0.8858\n",
            "Epoch 22/100\n",
            "54/54 [==============================] - 3s 50ms/step - loss: 0.1777 - accuracy: 0.9284 - val_loss: 0.3206 - val_accuracy: 0.8788\n",
            "Epoch 23/100\n",
            "54/54 [==============================] - 3s 49ms/step - loss: 0.1631 - accuracy: 0.9302 - val_loss: 0.3551 - val_accuracy: 0.8531\n",
            "Epoch 24/100\n",
            "54/54 [==============================] - 3s 48ms/step - loss: 0.1518 - accuracy: 0.9412 - val_loss: 0.3159 - val_accuracy: 0.8834\n",
            "Epoch 25/100\n",
            "54/54 [==============================] - 3s 49ms/step - loss: 0.1395 - accuracy: 0.9436 - val_loss: 0.3211 - val_accuracy: 0.8928\n",
            "Epoch 26/100\n",
            "54/54 [==============================] - 3s 48ms/step - loss: 0.1421 - accuracy: 0.9436 - val_loss: 0.3395 - val_accuracy: 0.8881\n",
            "Epoch 27/100\n",
            "54/54 [==============================] - 3s 49ms/step - loss: 0.1264 - accuracy: 0.9494 - val_loss: 0.3328 - val_accuracy: 0.8998\n",
            "Epoch 28/100\n",
            "54/54 [==============================] - 3s 48ms/step - loss: 0.1390 - accuracy: 0.9407 - val_loss: 0.3670 - val_accuracy: 0.8648\n",
            "Epoch 29/100\n",
            "54/54 [==============================] - 3s 48ms/step - loss: 0.1437 - accuracy: 0.9372 - val_loss: 0.3777 - val_accuracy: 0.8555\n",
            "Epoch 30/100\n",
            "54/54 [==============================] - 3s 48ms/step - loss: 0.1282 - accuracy: 0.9546 - val_loss: 0.3314 - val_accuracy: 0.8881\n",
            "Epoch 31/100\n",
            "54/54 [==============================] - 3s 48ms/step - loss: 0.1086 - accuracy: 0.9622 - val_loss: 0.3610 - val_accuracy: 0.8858\n",
            "Epoch 32/100\n",
            "54/54 [==============================] - 3s 49ms/step - loss: 0.1144 - accuracy: 0.9540 - val_loss: 0.3555 - val_accuracy: 0.8928\n",
            "Epoch 33/100\n",
            "54/54 [==============================] - 3s 48ms/step - loss: 0.1169 - accuracy: 0.9523 - val_loss: 0.3531 - val_accuracy: 0.8928\n",
            "Epoch 34/100\n",
            "54/54 [==============================] - 3s 49ms/step - loss: 0.1060 - accuracy: 0.9634 - val_loss: 0.3693 - val_accuracy: 0.8741\n",
            "Epoch 35/100\n",
            "54/54 [==============================] - 3s 48ms/step - loss: 0.1138 - accuracy: 0.9546 - val_loss: 0.3642 - val_accuracy: 0.8858\n",
            "Epoch 36/100\n",
            "54/54 [==============================] - 3s 48ms/step - loss: 0.1155 - accuracy: 0.9529 - val_loss: 0.3529 - val_accuracy: 0.8974\n",
            "Epoch 37/100\n",
            "54/54 [==============================] - 3s 48ms/step - loss: 0.0944 - accuracy: 0.9703 - val_loss: 0.3687 - val_accuracy: 0.8951\n",
            "Epoch 38/100\n",
            "54/54 [==============================] - 3s 49ms/step - loss: 0.1001 - accuracy: 0.9622 - val_loss: 0.3752 - val_accuracy: 0.8998\n",
            "Epoch 39/100\n",
            "54/54 [==============================] - 3s 49ms/step - loss: 0.0930 - accuracy: 0.9657 - val_loss: 0.3544 - val_accuracy: 0.8928\n",
            "Epoch 40/100\n",
            "54/54 [==============================] - 3s 48ms/step - loss: 0.0774 - accuracy: 0.9692 - val_loss: 0.3880 - val_accuracy: 0.9021\n",
            "Epoch 41/100\n",
            "54/54 [==============================] - 3s 47ms/step - loss: 0.0800 - accuracy: 0.9674 - val_loss: 0.4112 - val_accuracy: 0.8881\n",
            "Epoch 42/100\n",
            "54/54 [==============================] - 4s 68ms/step - loss: 0.0794 - accuracy: 0.9703 - val_loss: 0.4474 - val_accuracy: 0.8671\n",
            "Epoch 43/100\n",
            "54/54 [==============================] - 6s 92ms/step - loss: 0.0792 - accuracy: 0.9686 - val_loss: 0.3965 - val_accuracy: 0.8834\n",
            "Epoch 44/100\n",
            "54/54 [==============================] - 6s 93ms/step - loss: 0.0749 - accuracy: 0.9756 - val_loss: 0.3846 - val_accuracy: 0.8928\n",
            "Epoch 45/100\n",
            "54/54 [==============================] - 3s 48ms/step - loss: 0.0732 - accuracy: 0.9709 - val_loss: 0.3851 - val_accuracy: 0.8788\n",
            "Epoch 46/100\n",
            "54/54 [==============================] - 3s 50ms/step - loss: 0.0799 - accuracy: 0.9697 - val_loss: 0.3786 - val_accuracy: 0.8951\n",
            "Epoch 47/100\n",
            "54/54 [==============================] - 3s 48ms/step - loss: 0.0572 - accuracy: 0.9779 - val_loss: 0.4207 - val_accuracy: 0.8928\n",
            "Epoch 48/100\n",
            "54/54 [==============================] - 3s 48ms/step - loss: 0.0798 - accuracy: 0.9674 - val_loss: 0.3664 - val_accuracy: 0.8881\n",
            "Epoch 49/100\n",
            "54/54 [==============================] - 3s 49ms/step - loss: 0.0852 - accuracy: 0.9692 - val_loss: 0.3964 - val_accuracy: 0.8974\n",
            "Epoch 50/100\n",
            "54/54 [==============================] - 3s 49ms/step - loss: 0.0714 - accuracy: 0.9727 - val_loss: 0.3663 - val_accuracy: 0.9068\n",
            "Epoch 51/100\n",
            "54/54 [==============================] - 3s 50ms/step - loss: 0.0612 - accuracy: 0.9750 - val_loss: 0.4164 - val_accuracy: 0.8904\n",
            "Epoch 52/100\n",
            "54/54 [==============================] - 3s 49ms/step - loss: 0.0689 - accuracy: 0.9767 - val_loss: 0.3893 - val_accuracy: 0.9021\n",
            "Epoch 53/100\n",
            "54/54 [==============================] - 3s 48ms/step - loss: 0.0685 - accuracy: 0.9732 - val_loss: 0.4448 - val_accuracy: 0.8858\n",
            "Epoch 54/100\n",
            "54/54 [==============================] - 3s 48ms/step - loss: 0.0686 - accuracy: 0.9761 - val_loss: 0.3915 - val_accuracy: 0.8951\n",
            "Epoch 55/100\n",
            "54/54 [==============================] - 3s 49ms/step - loss: 0.0503 - accuracy: 0.9837 - val_loss: 0.4187 - val_accuracy: 0.8998\n",
            "Epoch 56/100\n",
            "54/54 [==============================] - 3s 49ms/step - loss: 0.0545 - accuracy: 0.9820 - val_loss: 0.4151 - val_accuracy: 0.8928\n",
            "Epoch 57/100\n",
            "54/54 [==============================] - 3s 49ms/step - loss: 0.0633 - accuracy: 0.9756 - val_loss: 0.4301 - val_accuracy: 0.8974\n",
            "Epoch 58/100\n",
            "54/54 [==============================] - 3s 49ms/step - loss: 0.0499 - accuracy: 0.9814 - val_loss: 0.4423 - val_accuracy: 0.8928\n",
            "Epoch 59/100\n",
            "54/54 [==============================] - 3s 48ms/step - loss: 0.0571 - accuracy: 0.9785 - val_loss: 0.4087 - val_accuracy: 0.8951\n",
            "Epoch 60/100\n",
            "54/54 [==============================] - 3s 48ms/step - loss: 0.0466 - accuracy: 0.9831 - val_loss: 0.4520 - val_accuracy: 0.8928\n",
            "Epoch 61/100\n",
            "54/54 [==============================] - 3s 49ms/step - loss: 0.0511 - accuracy: 0.9785 - val_loss: 0.4340 - val_accuracy: 0.8998\n",
            "Epoch 62/100\n",
            "54/54 [==============================] - 3s 49ms/step - loss: 0.0480 - accuracy: 0.9814 - val_loss: 0.4388 - val_accuracy: 0.8951\n",
            "Epoch 63/100\n",
            "54/54 [==============================] - 3s 48ms/step - loss: 0.0532 - accuracy: 0.9802 - val_loss: 0.4238 - val_accuracy: 0.8951\n",
            "Epoch 64/100\n",
            "54/54 [==============================] - 3s 49ms/step - loss: 0.0514 - accuracy: 0.9825 - val_loss: 0.4423 - val_accuracy: 0.8951\n",
            "Epoch 65/100\n",
            "54/54 [==============================] - 3s 55ms/step - loss: 0.0518 - accuracy: 0.9843 - val_loss: 0.4313 - val_accuracy: 0.8881\n",
            "Epoch 66/100\n",
            "54/54 [==============================] - 3s 48ms/step - loss: 0.0434 - accuracy: 0.9831 - val_loss: 0.4298 - val_accuracy: 0.8951\n",
            "Epoch 67/100\n",
            "54/54 [==============================] - 3s 49ms/step - loss: 0.0356 - accuracy: 0.9866 - val_loss: 0.4242 - val_accuracy: 0.9044\n",
            "Epoch 68/100\n",
            "54/54 [==============================] - 3s 48ms/step - loss: 0.0343 - accuracy: 0.9849 - val_loss: 0.4616 - val_accuracy: 0.8858\n",
            "Epoch 69/100\n",
            "54/54 [==============================] - 3s 50ms/step - loss: 0.0295 - accuracy: 0.9919 - val_loss: 0.4895 - val_accuracy: 0.8951\n",
            "Epoch 70/100\n",
            "54/54 [==============================] - 3s 48ms/step - loss: 0.0363 - accuracy: 0.9860 - val_loss: 0.4780 - val_accuracy: 0.8904\n",
            "Epoch 71/100\n",
            "54/54 [==============================] - 3s 49ms/step - loss: 0.0389 - accuracy: 0.9866 - val_loss: 0.4685 - val_accuracy: 0.8974\n",
            "Epoch 72/100\n",
            "54/54 [==============================] - 3s 49ms/step - loss: 0.0374 - accuracy: 0.9866 - val_loss: 0.4584 - val_accuracy: 0.8974\n",
            "Epoch 73/100\n",
            "54/54 [==============================] - 3s 49ms/step - loss: 0.0297 - accuracy: 0.9930 - val_loss: 0.4619 - val_accuracy: 0.8951\n",
            "Epoch 74/100\n",
            "54/54 [==============================] - 3s 49ms/step - loss: 0.0301 - accuracy: 0.9895 - val_loss: 0.4748 - val_accuracy: 0.8974\n",
            "Epoch 75/100\n",
            "54/54 [==============================] - 3s 48ms/step - loss: 0.0390 - accuracy: 0.9855 - val_loss: 0.4766 - val_accuracy: 0.8928\n",
            "Epoch 76/100\n",
            "54/54 [==============================] - 3s 49ms/step - loss: 0.0380 - accuracy: 0.9860 - val_loss: 0.4839 - val_accuracy: 0.8974\n",
            "Epoch 77/100\n",
            "54/54 [==============================] - 3s 49ms/step - loss: 0.0299 - accuracy: 0.9895 - val_loss: 0.4843 - val_accuracy: 0.8904\n",
            "Epoch 78/100\n",
            "54/54 [==============================] - 3s 49ms/step - loss: 0.0454 - accuracy: 0.9837 - val_loss: 0.4608 - val_accuracy: 0.8904\n",
            "Epoch 79/100\n",
            "54/54 [==============================] - 3s 49ms/step - loss: 0.0419 - accuracy: 0.9802 - val_loss: 0.4978 - val_accuracy: 0.8998\n",
            "Epoch 80/100\n",
            "54/54 [==============================] - 3s 49ms/step - loss: 0.0251 - accuracy: 0.9913 - val_loss: 0.4961 - val_accuracy: 0.8881\n",
            "Epoch 81/100\n",
            "54/54 [==============================] - 3s 48ms/step - loss: 0.0167 - accuracy: 0.9936 - val_loss: 0.4955 - val_accuracy: 0.8974\n",
            "Epoch 82/100\n",
            "54/54 [==============================] - 3s 48ms/step - loss: 0.0232 - accuracy: 0.9907 - val_loss: 0.4998 - val_accuracy: 0.8881\n",
            "Epoch 83/100\n",
            "54/54 [==============================] - 3s 48ms/step - loss: 0.0252 - accuracy: 0.9913 - val_loss: 0.4828 - val_accuracy: 0.8904\n",
            "Epoch 84/100\n",
            "54/54 [==============================] - 3s 49ms/step - loss: 0.0181 - accuracy: 0.9953 - val_loss: 0.4995 - val_accuracy: 0.8951\n",
            "Epoch 85/100\n",
            "54/54 [==============================] - 3s 48ms/step - loss: 0.0284 - accuracy: 0.9913 - val_loss: 0.5194 - val_accuracy: 0.8904\n",
            "Epoch 86/100\n",
            "54/54 [==============================] - 3s 50ms/step - loss: 0.0234 - accuracy: 0.9907 - val_loss: 0.5083 - val_accuracy: 0.9021\n",
            "Epoch 87/100\n",
            "54/54 [==============================] - 3s 48ms/step - loss: 0.0280 - accuracy: 0.9907 - val_loss: 0.5922 - val_accuracy: 0.8928\n",
            "Epoch 88/100\n",
            "54/54 [==============================] - 3s 50ms/step - loss: 0.0200 - accuracy: 0.9942 - val_loss: 0.5295 - val_accuracy: 0.8951\n",
            "Epoch 89/100\n",
            "54/54 [==============================] - 3s 49ms/step - loss: 0.0208 - accuracy: 0.9942 - val_loss: 0.5495 - val_accuracy: 0.8974\n",
            "Epoch 90/100\n",
            "54/54 [==============================] - 3s 49ms/step - loss: 0.0161 - accuracy: 0.9953 - val_loss: 0.5036 - val_accuracy: 0.9044\n",
            "Epoch 91/100\n",
            "54/54 [==============================] - 3s 49ms/step - loss: 0.0235 - accuracy: 0.9919 - val_loss: 0.5347 - val_accuracy: 0.8998\n",
            "Epoch 92/100\n",
            "54/54 [==============================] - 3s 49ms/step - loss: 0.0192 - accuracy: 0.9919 - val_loss: 0.5321 - val_accuracy: 0.8928\n",
            "Epoch 93/100\n",
            "54/54 [==============================] - 3s 49ms/step - loss: 0.0120 - accuracy: 0.9971 - val_loss: 0.5638 - val_accuracy: 0.9068\n",
            "Epoch 94/100\n",
            "54/54 [==============================] - 3s 49ms/step - loss: 0.0254 - accuracy: 0.9907 - val_loss: 0.5664 - val_accuracy: 0.9044\n",
            "Epoch 95/100\n",
            "54/54 [==============================] - 3s 49ms/step - loss: 0.0203 - accuracy: 0.9936 - val_loss: 0.5844 - val_accuracy: 0.9021\n",
            "Epoch 96/100\n",
            "54/54 [==============================] - 3s 49ms/step - loss: 0.0248 - accuracy: 0.9901 - val_loss: 0.5092 - val_accuracy: 0.8928\n",
            "Epoch 97/100\n",
            "54/54 [==============================] - 3s 48ms/step - loss: 0.0255 - accuracy: 0.9895 - val_loss: 0.5404 - val_accuracy: 0.8974\n",
            "Epoch 98/100\n",
            "54/54 [==============================] - 3s 48ms/step - loss: 0.0217 - accuracy: 0.9936 - val_loss: 0.5038 - val_accuracy: 0.8858\n",
            "Epoch 99/100\n",
            "54/54 [==============================] - 3s 48ms/step - loss: 0.0266 - accuracy: 0.9895 - val_loss: 0.5149 - val_accuracy: 0.8834\n",
            "Epoch 100/100\n",
            "54/54 [==============================] - 3s 48ms/step - loss: 0.0201 - accuracy: 0.9948 - val_loss: 0.5486 - val_accuracy: 0.8881\n",
            "0.01\n",
            "Epoch 1/100\n",
            "54/54 [==============================] - 3s 50ms/step - loss: 0.8758 - accuracy: 0.6329 - val_loss: 0.5103 - val_accuracy: 0.7506\n",
            "Epoch 2/100\n",
            "54/54 [==============================] - 3s 48ms/step - loss: 0.4920 - accuracy: 0.7743 - val_loss: 0.5408 - val_accuracy: 0.7506\n",
            "Epoch 3/100\n",
            "54/54 [==============================] - 3s 48ms/step - loss: 0.4881 - accuracy: 0.7580 - val_loss: 0.4747 - val_accuracy: 0.7506\n",
            "Epoch 4/100\n",
            "54/54 [==============================] - 3s 48ms/step - loss: 0.4563 - accuracy: 0.7784 - val_loss: 0.4507 - val_accuracy: 0.7855\n",
            "Epoch 5/100\n",
            "54/54 [==============================] - 3s 49ms/step - loss: 0.4413 - accuracy: 0.7818 - val_loss: 0.4478 - val_accuracy: 0.7762\n",
            "Epoch 6/100\n",
            "54/54 [==============================] - 3s 48ms/step - loss: 0.4297 - accuracy: 0.7853 - val_loss: 0.4416 - val_accuracy: 0.7879\n",
            "Epoch 7/100\n",
            "54/54 [==============================] - 3s 49ms/step - loss: 0.4172 - accuracy: 0.8086 - val_loss: 0.4671 - val_accuracy: 0.7855\n",
            "Epoch 8/100\n",
            "54/54 [==============================] - 3s 49ms/step - loss: 0.3868 - accuracy: 0.8115 - val_loss: 0.4286 - val_accuracy: 0.7972\n",
            "Epoch 9/100\n",
            "54/54 [==============================] - 3s 50ms/step - loss: 0.3639 - accuracy: 0.8330 - val_loss: 0.3782 - val_accuracy: 0.8368\n",
            "Epoch 10/100\n",
            "54/54 [==============================] - 3s 49ms/step - loss: 0.3385 - accuracy: 0.8528 - val_loss: 0.3737 - val_accuracy: 0.8485\n",
            "Epoch 11/100\n",
            "54/54 [==============================] - 3s 49ms/step - loss: 0.3137 - accuracy: 0.8598 - val_loss: 0.3821 - val_accuracy: 0.8438\n",
            "Epoch 12/100\n",
            "54/54 [==============================] - 3s 49ms/step - loss: 0.3004 - accuracy: 0.8627 - val_loss: 0.3639 - val_accuracy: 0.8368\n",
            "Epoch 13/100\n",
            "54/54 [==============================] - 3s 49ms/step - loss: 0.2893 - accuracy: 0.8726 - val_loss: 0.3642 - val_accuracy: 0.8555\n",
            "Epoch 14/100\n",
            "54/54 [==============================] - 3s 49ms/step - loss: 0.2715 - accuracy: 0.8877 - val_loss: 0.3544 - val_accuracy: 0.8625\n",
            "Epoch 15/100\n",
            "54/54 [==============================] - 3s 50ms/step - loss: 0.2771 - accuracy: 0.8837 - val_loss: 0.3733 - val_accuracy: 0.8625\n",
            "Epoch 16/100\n",
            "54/54 [==============================] - 3s 51ms/step - loss: 0.2719 - accuracy: 0.8866 - val_loss: 0.3676 - val_accuracy: 0.8508\n",
            "Epoch 17/100\n",
            "54/54 [==============================] - 3s 50ms/step - loss: 0.2386 - accuracy: 0.8930 - val_loss: 0.3902 - val_accuracy: 0.8648\n",
            "Epoch 18/100\n",
            "54/54 [==============================] - 3s 50ms/step - loss: 0.2303 - accuracy: 0.8994 - val_loss: 0.3981 - val_accuracy: 0.8625\n",
            "Epoch 19/100\n",
            "54/54 [==============================] - 3s 49ms/step - loss: 0.2333 - accuracy: 0.8982 - val_loss: 0.3827 - val_accuracy: 0.8695\n",
            "Epoch 20/100\n",
            "54/54 [==============================] - 3s 49ms/step - loss: 0.2145 - accuracy: 0.9052 - val_loss: 0.4045 - val_accuracy: 0.8695\n",
            "Epoch 21/100\n",
            "54/54 [==============================] - 3s 49ms/step - loss: 0.2095 - accuracy: 0.9116 - val_loss: 0.4050 - val_accuracy: 0.8695\n",
            "Epoch 22/100\n",
            "54/54 [==============================] - 3s 49ms/step - loss: 0.2776 - accuracy: 0.8755 - val_loss: 0.3967 - val_accuracy: 0.8415\n",
            "Epoch 23/100\n",
            "54/54 [==============================] - 3s 48ms/step - loss: 0.2312 - accuracy: 0.8988 - val_loss: 0.4102 - val_accuracy: 0.8578\n",
            "Epoch 24/100\n",
            "54/54 [==============================] - 3s 49ms/step - loss: 0.2055 - accuracy: 0.9139 - val_loss: 0.3945 - val_accuracy: 0.8695\n",
            "Epoch 25/100\n",
            "54/54 [==============================] - 3s 49ms/step - loss: 0.2445 - accuracy: 0.8994 - val_loss: 0.3811 - val_accuracy: 0.8671\n",
            "Epoch 26/100\n",
            "54/54 [==============================] - 3s 49ms/step - loss: 0.2264 - accuracy: 0.8982 - val_loss: 0.3839 - val_accuracy: 0.8695\n",
            "Epoch 27/100\n",
            "54/54 [==============================] - 3s 48ms/step - loss: 0.2050 - accuracy: 0.9098 - val_loss: 0.3957 - val_accuracy: 0.8415\n",
            "Epoch 28/100\n",
            "54/54 [==============================] - 3s 49ms/step - loss: 0.1875 - accuracy: 0.9232 - val_loss: 0.3886 - val_accuracy: 0.8648\n",
            "Epoch 29/100\n",
            "54/54 [==============================] - 3s 48ms/step - loss: 0.2108 - accuracy: 0.9186 - val_loss: 0.3972 - val_accuracy: 0.8601\n",
            "Epoch 30/100\n",
            "54/54 [==============================] - 3s 49ms/step - loss: 0.1886 - accuracy: 0.9203 - val_loss: 0.3793 - val_accuracy: 0.8508\n",
            "Epoch 31/100\n",
            "54/54 [==============================] - 3s 51ms/step - loss: 0.1882 - accuracy: 0.9215 - val_loss: 0.4247 - val_accuracy: 0.8555\n",
            "Epoch 32/100\n",
            "54/54 [==============================] - 3s 50ms/step - loss: 0.1858 - accuracy: 0.9255 - val_loss: 0.4442 - val_accuracy: 0.8508\n",
            "Epoch 33/100\n",
            "54/54 [==============================] - 3s 49ms/step - loss: 0.1509 - accuracy: 0.9366 - val_loss: 0.4629 - val_accuracy: 0.8578\n",
            "Epoch 34/100\n",
            "54/54 [==============================] - 3s 49ms/step - loss: 0.1501 - accuracy: 0.9424 - val_loss: 0.4760 - val_accuracy: 0.8625\n",
            "Epoch 35/100\n",
            "54/54 [==============================] - 3s 49ms/step - loss: 0.1712 - accuracy: 0.9255 - val_loss: 0.4288 - val_accuracy: 0.8601\n",
            "Epoch 36/100\n",
            "54/54 [==============================] - 3s 50ms/step - loss: 0.1587 - accuracy: 0.9366 - val_loss: 0.4453 - val_accuracy: 0.8485\n",
            "Epoch 37/100\n",
            "54/54 [==============================] - 3s 49ms/step - loss: 0.1648 - accuracy: 0.9314 - val_loss: 0.4101 - val_accuracy: 0.8555\n",
            "Epoch 38/100\n",
            "54/54 [==============================] - 3s 50ms/step - loss: 0.1503 - accuracy: 0.9424 - val_loss: 0.4651 - val_accuracy: 0.8578\n",
            "Epoch 39/100\n",
            "54/54 [==============================] - 3s 49ms/step - loss: 0.1649 - accuracy: 0.9366 - val_loss: 0.4388 - val_accuracy: 0.8508\n",
            "Epoch 40/100\n",
            "54/54 [==============================] - 3s 49ms/step - loss: 0.1484 - accuracy: 0.9412 - val_loss: 0.4008 - val_accuracy: 0.8531\n",
            "Epoch 41/100\n",
            "54/54 [==============================] - 3s 50ms/step - loss: 0.1568 - accuracy: 0.9325 - val_loss: 0.3988 - val_accuracy: 0.8578\n",
            "Epoch 42/100\n",
            "54/54 [==============================] - 3s 50ms/step - loss: 0.1439 - accuracy: 0.9395 - val_loss: 0.4205 - val_accuracy: 0.8555\n",
            "Epoch 43/100\n",
            "54/54 [==============================] - 3s 50ms/step - loss: 0.1253 - accuracy: 0.9459 - val_loss: 0.4861 - val_accuracy: 0.8508\n",
            "Epoch 44/100\n",
            "54/54 [==============================] - 3s 50ms/step - loss: 0.1535 - accuracy: 0.9453 - val_loss: 0.4494 - val_accuracy: 0.8555\n",
            "Epoch 45/100\n",
            "54/54 [==============================] - 3s 50ms/step - loss: 0.1212 - accuracy: 0.9540 - val_loss: 0.4710 - val_accuracy: 0.8531\n",
            "Epoch 46/100\n",
            "54/54 [==============================] - 3s 49ms/step - loss: 0.1166 - accuracy: 0.9506 - val_loss: 0.4819 - val_accuracy: 0.8485\n",
            "Epoch 47/100\n",
            "54/54 [==============================] - 3s 49ms/step - loss: 0.1376 - accuracy: 0.9523 - val_loss: 0.4180 - val_accuracy: 0.8555\n",
            "Epoch 48/100\n",
            "54/54 [==============================] - 3s 48ms/step - loss: 0.1263 - accuracy: 0.9482 - val_loss: 0.4535 - val_accuracy: 0.8625\n",
            "Epoch 49/100\n",
            "54/54 [==============================] - 3s 50ms/step - loss: 0.1278 - accuracy: 0.9494 - val_loss: 0.4773 - val_accuracy: 0.8601\n",
            "Epoch 50/100\n",
            "54/54 [==============================] - 3s 50ms/step - loss: 0.1319 - accuracy: 0.9482 - val_loss: 0.4784 - val_accuracy: 0.8578\n",
            "Epoch 51/100\n",
            "54/54 [==============================] - 3s 49ms/step - loss: 0.1020 - accuracy: 0.9610 - val_loss: 0.5240 - val_accuracy: 0.8485\n",
            "Epoch 52/100\n",
            "54/54 [==============================] - 3s 49ms/step - loss: 0.1412 - accuracy: 0.9354 - val_loss: 0.4590 - val_accuracy: 0.8601\n",
            "Epoch 53/100\n",
            "54/54 [==============================] - 3s 50ms/step - loss: 0.1085 - accuracy: 0.9581 - val_loss: 0.4910 - val_accuracy: 0.8578\n",
            "Epoch 54/100\n",
            "54/54 [==============================] - 3s 49ms/step - loss: 0.1318 - accuracy: 0.9447 - val_loss: 0.4942 - val_accuracy: 0.8555\n",
            "Epoch 55/100\n",
            "54/54 [==============================] - 3s 49ms/step - loss: 0.1311 - accuracy: 0.9488 - val_loss: 0.4837 - val_accuracy: 0.8345\n",
            "Epoch 56/100\n",
            "54/54 [==============================] - 3s 48ms/step - loss: 0.1446 - accuracy: 0.9383 - val_loss: 0.4513 - val_accuracy: 0.8601\n",
            "Epoch 57/100\n",
            "54/54 [==============================] - 3s 50ms/step - loss: 0.2132 - accuracy: 0.9191 - val_loss: 0.4189 - val_accuracy: 0.8555\n",
            "Epoch 58/100\n",
            "54/54 [==============================] - 3s 49ms/step - loss: 0.1432 - accuracy: 0.9465 - val_loss: 0.4701 - val_accuracy: 0.8531\n",
            "Epoch 59/100\n",
            "54/54 [==============================] - 3s 50ms/step - loss: 0.1173 - accuracy: 0.9552 - val_loss: 0.4845 - val_accuracy: 0.8485\n",
            "Epoch 60/100\n",
            "54/54 [==============================] - 3s 49ms/step - loss: 0.1309 - accuracy: 0.9511 - val_loss: 0.4937 - val_accuracy: 0.8718\n",
            "Epoch 61/100\n",
            "54/54 [==============================] - 3s 50ms/step - loss: 0.1140 - accuracy: 0.9575 - val_loss: 0.4835 - val_accuracy: 0.8625\n",
            "Epoch 62/100\n",
            "54/54 [==============================] - 3s 49ms/step - loss: 0.1007 - accuracy: 0.9535 - val_loss: 0.5190 - val_accuracy: 0.8555\n",
            "Epoch 63/100\n",
            "54/54 [==============================] - 3s 49ms/step - loss: 0.1196 - accuracy: 0.9535 - val_loss: 0.5194 - val_accuracy: 0.8508\n",
            "Epoch 64/100\n",
            "54/54 [==============================] - 3s 49ms/step - loss: 0.1328 - accuracy: 0.9540 - val_loss: 0.4929 - val_accuracy: 0.8485\n",
            "Epoch 65/100\n",
            "54/54 [==============================] - 3s 49ms/step - loss: 0.1035 - accuracy: 0.9587 - val_loss: 0.5255 - val_accuracy: 0.8345\n",
            "Epoch 66/100\n",
            "54/54 [==============================] - 3s 49ms/step - loss: 0.1043 - accuracy: 0.9546 - val_loss: 0.5240 - val_accuracy: 0.8508\n",
            "Epoch 67/100\n",
            "54/54 [==============================] - 3s 50ms/step - loss: 0.0930 - accuracy: 0.9639 - val_loss: 0.5124 - val_accuracy: 0.8508\n",
            "Epoch 68/100\n",
            "54/54 [==============================] - 3s 50ms/step - loss: 0.0925 - accuracy: 0.9610 - val_loss: 0.5383 - val_accuracy: 0.8485\n",
            "Epoch 69/100\n",
            "54/54 [==============================] - 3s 49ms/step - loss: 0.1197 - accuracy: 0.9546 - val_loss: 0.5648 - val_accuracy: 0.8578\n",
            "Epoch 70/100\n",
            "54/54 [==============================] - 3s 50ms/step - loss: 0.1078 - accuracy: 0.9593 - val_loss: 0.5575 - val_accuracy: 0.8555\n",
            "Epoch 71/100\n",
            "54/54 [==============================] - 3s 49ms/step - loss: 0.0995 - accuracy: 0.9622 - val_loss: 0.5507 - val_accuracy: 0.8578\n",
            "Epoch 72/100\n",
            "54/54 [==============================] - 3s 48ms/step - loss: 0.0776 - accuracy: 0.9657 - val_loss: 0.5551 - val_accuracy: 0.8485\n",
            "Epoch 73/100\n",
            "54/54 [==============================] - 3s 49ms/step - loss: 0.0956 - accuracy: 0.9628 - val_loss: 0.5335 - val_accuracy: 0.8601\n",
            "Epoch 74/100\n",
            "54/54 [==============================] - 3s 49ms/step - loss: 0.0827 - accuracy: 0.9692 - val_loss: 0.5388 - val_accuracy: 0.8392\n",
            "Epoch 75/100\n",
            "54/54 [==============================] - 3s 49ms/step - loss: 0.0911 - accuracy: 0.9651 - val_loss: 0.5594 - val_accuracy: 0.8625\n",
            "Epoch 76/100\n",
            "54/54 [==============================] - 3s 49ms/step - loss: 0.1120 - accuracy: 0.9587 - val_loss: 0.5318 - val_accuracy: 0.8555\n",
            "Epoch 77/100\n",
            "54/54 [==============================] - 3s 49ms/step - loss: 0.0965 - accuracy: 0.9668 - val_loss: 0.5379 - val_accuracy: 0.8625\n",
            "Epoch 78/100\n",
            "54/54 [==============================] - 3s 50ms/step - loss: 0.0863 - accuracy: 0.9674 - val_loss: 0.5539 - val_accuracy: 0.8438\n",
            "Epoch 79/100\n",
            "54/54 [==============================] - 3s 50ms/step - loss: 0.1184 - accuracy: 0.9517 - val_loss: 0.5355 - val_accuracy: 0.8508\n",
            "Epoch 80/100\n",
            "54/54 [==============================] - 3s 49ms/step - loss: 0.0834 - accuracy: 0.9703 - val_loss: 0.5722 - val_accuracy: 0.8508\n",
            "Epoch 81/100\n",
            "54/54 [==============================] - 3s 50ms/step - loss: 0.0658 - accuracy: 0.9738 - val_loss: 0.5315 - val_accuracy: 0.8415\n",
            "Epoch 82/100\n",
            "54/54 [==============================] - 3s 49ms/step - loss: 0.1254 - accuracy: 0.9546 - val_loss: 0.5207 - val_accuracy: 0.8485\n",
            "Epoch 83/100\n",
            "54/54 [==============================] - 3s 50ms/step - loss: 0.0916 - accuracy: 0.9692 - val_loss: 0.5435 - val_accuracy: 0.8228\n",
            "Epoch 84/100\n",
            "54/54 [==============================] - 3s 49ms/step - loss: 0.0673 - accuracy: 0.9732 - val_loss: 0.5910 - val_accuracy: 0.8578\n",
            "Epoch 85/100\n",
            "54/54 [==============================] - 3s 49ms/step - loss: 0.0741 - accuracy: 0.9709 - val_loss: 0.6080 - val_accuracy: 0.8508\n",
            "Epoch 86/100\n",
            "54/54 [==============================] - 3s 50ms/step - loss: 0.0994 - accuracy: 0.9651 - val_loss: 0.6468 - val_accuracy: 0.8182\n",
            "Epoch 87/100\n",
            "54/54 [==============================] - 3s 51ms/step - loss: 0.0960 - accuracy: 0.9663 - val_loss: 0.5741 - val_accuracy: 0.8322\n",
            "Epoch 88/100\n",
            "54/54 [==============================] - 3s 50ms/step - loss: 0.0842 - accuracy: 0.9645 - val_loss: 0.5177 - val_accuracy: 0.8555\n",
            "Epoch 89/100\n",
            "54/54 [==============================] - 3s 49ms/step - loss: 0.0826 - accuracy: 0.9744 - val_loss: 0.5207 - val_accuracy: 0.8508\n",
            "Epoch 90/100\n",
            "54/54 [==============================] - 3s 49ms/step - loss: 0.1487 - accuracy: 0.9500 - val_loss: 0.5367 - val_accuracy: 0.8205\n",
            "Epoch 91/100\n",
            "54/54 [==============================] - 3s 50ms/step - loss: 0.1184 - accuracy: 0.9546 - val_loss: 0.4799 - val_accuracy: 0.8392\n",
            "Epoch 92/100\n",
            "54/54 [==============================] - 3s 49ms/step - loss: 0.0988 - accuracy: 0.9628 - val_loss: 0.5353 - val_accuracy: 0.8462\n",
            "Epoch 93/100\n",
            "54/54 [==============================] - 3s 51ms/step - loss: 0.0964 - accuracy: 0.9581 - val_loss: 0.5953 - val_accuracy: 0.8392\n",
            "Epoch 94/100\n",
            "54/54 [==============================] - 3s 49ms/step - loss: 0.0659 - accuracy: 0.9767 - val_loss: 0.5155 - val_accuracy: 0.8508\n",
            "Epoch 95/100\n",
            "54/54 [==============================] - 3s 50ms/step - loss: 0.0967 - accuracy: 0.9604 - val_loss: 0.5739 - val_accuracy: 0.8298\n",
            "Epoch 96/100\n",
            "54/54 [==============================] - 3s 49ms/step - loss: 0.0983 - accuracy: 0.9663 - val_loss: 0.5438 - val_accuracy: 0.8462\n",
            "Epoch 97/100\n",
            "54/54 [==============================] - 3s 51ms/step - loss: 0.0699 - accuracy: 0.9732 - val_loss: 0.6075 - val_accuracy: 0.8531\n",
            "Epoch 98/100\n",
            "54/54 [==============================] - 3s 49ms/step - loss: 0.1058 - accuracy: 0.9668 - val_loss: 0.5059 - val_accuracy: 0.8601\n",
            "Epoch 99/100\n",
            "54/54 [==============================] - 3s 50ms/step - loss: 0.0858 - accuracy: 0.9680 - val_loss: 0.5401 - val_accuracy: 0.8578\n",
            "Epoch 100/100\n",
            "54/54 [==============================] - 3s 50ms/step - loss: 0.1430 - accuracy: 0.9535 - val_loss: 0.4900 - val_accuracy: 0.8462\n"
          ]
        }
      ],
      "source": [
        "opt_scores = {}\n",
        "l_rate = {}\n",
        "for lr in [0.0001, 0.001, 0.01]:\n",
        "  print(lr)\n",
        "  model = train_model(name= 'LR_tuning' , droprate=droprate, learning_rate=lr, batch_size=batch_size, epochs=epochs)\n",
        "  opt_scores[lr] = model[1]"
      ]
    },
    {
      "cell_type": "code",
      "execution_count": null,
      "metadata": {
        "colab": {
          "base_uri": "https://localhost:8080/",
          "height": 312
        },
        "id": "dtn7Q1BeO0Mo",
        "outputId": "111acaba-d573-4032-a4d8-a34f6b68bf21"
      },
      "outputs": [
        {
          "data": {
            "text/plain": [
              "<matplotlib.legend.Legend at 0x7efe302b5070>"
            ]
          },
          "execution_count": 27,
          "metadata": {},
          "output_type": "execute_result"
        },
        {
          "data": {
            "image/png": "[encoded data removed]",
            "text/plain": [
              "<Figure size 432x288 with 1 Axes>"
            ]
          },
          "metadata": {
            "needs_background": "light"
          },
          "output_type": "display_data"
        }
      ],
      "source": [
        "for lr, hist in opt_scores.items():\n",
        "    plt.plot(hist['val_loss'], label=('loss=%s' % lr))\n",
        "    plt.plot(hist['val_accuracy'], label=('acc=%s' % lr))\n",
        "    \n",
        "plt.title('Tuning learning rate')\n",
        "plt.ylabel('Accuracy, Loss')\n",
        "plt.xlabel('Epoch')\n",
        "plt.grid(True)\n",
        "plt.gca().set_ylim(0, 1)\n",
        "plt.legend()"
      ]
    },
    {
      "cell_type": "markdown",
      "metadata": {
        "id": "eoS7TX1c9Pby"
      },
      "source": [
        "The best validation accuracy and losss is got with a learning rate of 0.0001"
      ]
    },
    {
      "cell_type": "code",
      "execution_count": null,
      "metadata": {
        "id": "lj80TA3zsmhz"
      },
      "outputs": [],
      "source": [
        "learning_rate = 0.0001"
      ]
    },
    {
      "cell_type": "code",
      "execution_count": null,
      "metadata": {
        "id": "VlfHwZqO2LxW"
      },
      "outputs": [],
      "source": [
        "epochs = 60"
      ]
    },
    {
      "cell_type": "markdown",
      "metadata": {
        "id": "WPLyIg0x9IEu"
      },
      "source": [
        "### Tuning the drop rate for Dropout layer"
      ]
    },
    {
      "cell_type": "code",
      "execution_count": null,
      "metadata": {
        "colab": {
          "base_uri": "https://localhost:8080/"
        },
        "id": "arVz4X7m9Geg",
        "outputId": "597a52f4-051a-4501-b79d-76af92b38a87"
      },
      "outputs": [
        {
          "name": "stdout",
          "output_type": "stream",
          "text": [
            "0.2\n",
            "Epoch 1/60\n",
            "54/54 [==============================] - 3s 51ms/step - loss: 0.5340 - accuracy: 0.7353 - val_loss: 0.4457 - val_accuracy: 0.7925\n",
            "Epoch 2/60\n",
            "54/54 [==============================] - 3s 47ms/step - loss: 0.4250 - accuracy: 0.8010 - val_loss: 0.3874 - val_accuracy: 0.8252\n",
            "Epoch 3/60\n",
            "54/54 [==============================] - 3s 48ms/step - loss: 0.3934 - accuracy: 0.8168 - val_loss: 0.3780 - val_accuracy: 0.8298\n",
            "Epoch 4/60\n",
            "54/54 [==============================] - 3s 47ms/step - loss: 0.3661 - accuracy: 0.8307 - val_loss: 0.3558 - val_accuracy: 0.8438\n",
            "Epoch 5/60\n",
            "54/54 [==============================] - 3s 48ms/step - loss: 0.3515 - accuracy: 0.8354 - val_loss: 0.3442 - val_accuracy: 0.8601\n",
            "Epoch 6/60\n",
            "54/54 [==============================] - 3s 49ms/step - loss: 0.3419 - accuracy: 0.8406 - val_loss: 0.3324 - val_accuracy: 0.8625\n",
            "Epoch 7/60\n",
            "54/54 [==============================] - 3s 47ms/step - loss: 0.3304 - accuracy: 0.8458 - val_loss: 0.3229 - val_accuracy: 0.8718\n",
            "Epoch 8/60\n",
            "54/54 [==============================] - 3s 47ms/step - loss: 0.3114 - accuracy: 0.8592 - val_loss: 0.3237 - val_accuracy: 0.8834\n",
            "Epoch 9/60\n",
            "54/54 [==============================] - 3s 57ms/step - loss: 0.3075 - accuracy: 0.8645 - val_loss: 0.3288 - val_accuracy: 0.8741\n",
            "Epoch 10/60\n",
            "54/54 [==============================] - 3s 48ms/step - loss: 0.2999 - accuracy: 0.8749 - val_loss: 0.3126 - val_accuracy: 0.8695\n",
            "Epoch 11/60\n",
            "54/54 [==============================] - 3s 48ms/step - loss: 0.2916 - accuracy: 0.8709 - val_loss: 0.3001 - val_accuracy: 0.8928\n",
            "Epoch 12/60\n",
            "54/54 [==============================] - 3s 47ms/step - loss: 0.3065 - accuracy: 0.8534 - val_loss: 0.2986 - val_accuracy: 0.8788\n",
            "Epoch 13/60\n",
            "54/54 [==============================] - 3s 47ms/step - loss: 0.2788 - accuracy: 0.8819 - val_loss: 0.2947 - val_accuracy: 0.8834\n",
            "Epoch 14/60\n",
            "54/54 [==============================] - 3s 47ms/step - loss: 0.2764 - accuracy: 0.8813 - val_loss: 0.2897 - val_accuracy: 0.8951\n",
            "Epoch 15/60\n",
            "54/54 [==============================] - 3s 46ms/step - loss: 0.2655 - accuracy: 0.8912 - val_loss: 0.2990 - val_accuracy: 0.8811\n",
            "Epoch 16/60\n",
            "54/54 [==============================] - 3s 47ms/step - loss: 0.2682 - accuracy: 0.8837 - val_loss: 0.3098 - val_accuracy: 0.8741\n",
            "Epoch 17/60\n",
            "54/54 [==============================] - 3s 48ms/step - loss: 0.2607 - accuracy: 0.8941 - val_loss: 0.2995 - val_accuracy: 0.8811\n",
            "Epoch 18/60\n",
            "54/54 [==============================] - 3s 47ms/step - loss: 0.2621 - accuracy: 0.8871 - val_loss: 0.2794 - val_accuracy: 0.8904\n",
            "Epoch 19/60\n",
            "54/54 [==============================] - 3s 47ms/step - loss: 0.2590 - accuracy: 0.8924 - val_loss: 0.2762 - val_accuracy: 0.8951\n",
            "Epoch 20/60\n",
            "54/54 [==============================] - 3s 48ms/step - loss: 0.2428 - accuracy: 0.8982 - val_loss: 0.2914 - val_accuracy: 0.8834\n",
            "Epoch 21/60\n",
            "54/54 [==============================] - 3s 47ms/step - loss: 0.2405 - accuracy: 0.9023 - val_loss: 0.2734 - val_accuracy: 0.8928\n",
            "Epoch 22/60\n",
            "54/54 [==============================] - 3s 47ms/step - loss: 0.2376 - accuracy: 0.9069 - val_loss: 0.2690 - val_accuracy: 0.9091\n",
            "Epoch 23/60\n",
            "54/54 [==============================] - 3s 47ms/step - loss: 0.2377 - accuracy: 0.8994 - val_loss: 0.2789 - val_accuracy: 0.8998\n",
            "Epoch 24/60\n",
            "54/54 [==============================] - 3s 47ms/step - loss: 0.2349 - accuracy: 0.9087 - val_loss: 0.2797 - val_accuracy: 0.8951\n",
            "Epoch 25/60\n",
            "54/54 [==============================] - 3s 47ms/step - loss: 0.2325 - accuracy: 0.9046 - val_loss: 0.2707 - val_accuracy: 0.8904\n",
            "Epoch 26/60\n",
            "54/54 [==============================] - 3s 48ms/step - loss: 0.2449 - accuracy: 0.8935 - val_loss: 0.3013 - val_accuracy: 0.8811\n",
            "Epoch 27/60\n",
            "54/54 [==============================] - 3s 47ms/step - loss: 0.2327 - accuracy: 0.9104 - val_loss: 0.2883 - val_accuracy: 0.8904\n",
            "Epoch 28/60\n",
            "54/54 [==============================] - 3s 47ms/step - loss: 0.2174 - accuracy: 0.9180 - val_loss: 0.2637 - val_accuracy: 0.9044\n",
            "Epoch 29/60\n",
            "54/54 [==============================] - 3s 47ms/step - loss: 0.2159 - accuracy: 0.9122 - val_loss: 0.2701 - val_accuracy: 0.8974\n",
            "Epoch 30/60\n",
            "54/54 [==============================] - 3s 47ms/step - loss: 0.2105 - accuracy: 0.9133 - val_loss: 0.2740 - val_accuracy: 0.8998\n",
            "Epoch 31/60\n",
            "54/54 [==============================] - 3s 47ms/step - loss: 0.2139 - accuracy: 0.9133 - val_loss: 0.2688 - val_accuracy: 0.8974\n",
            "Epoch 32/60\n",
            "54/54 [==============================] - 3s 48ms/step - loss: 0.2119 - accuracy: 0.9180 - val_loss: 0.2715 - val_accuracy: 0.8998\n",
            "Epoch 33/60\n",
            "54/54 [==============================] - 3s 48ms/step - loss: 0.2063 - accuracy: 0.9232 - val_loss: 0.2643 - val_accuracy: 0.9068\n",
            "Epoch 34/60\n",
            "54/54 [==============================] - 3s 47ms/step - loss: 0.2048 - accuracy: 0.9238 - val_loss: 0.2662 - val_accuracy: 0.9068\n",
            "Epoch 35/60\n",
            "54/54 [==============================] - 3s 48ms/step - loss: 0.2079 - accuracy: 0.9209 - val_loss: 0.2925 - val_accuracy: 0.8904\n",
            "Epoch 36/60\n",
            "54/54 [==============================] - 3s 48ms/step - loss: 0.2113 - accuracy: 0.9174 - val_loss: 0.2694 - val_accuracy: 0.8904\n",
            "Epoch 37/60\n",
            "54/54 [==============================] - 3s 47ms/step - loss: 0.1981 - accuracy: 0.9186 - val_loss: 0.2603 - val_accuracy: 0.9068\n",
            "Epoch 38/60\n",
            "54/54 [==============================] - 3s 47ms/step - loss: 0.1969 - accuracy: 0.9255 - val_loss: 0.2670 - val_accuracy: 0.9044\n",
            "Epoch 39/60\n",
            "54/54 [==============================] - 3s 47ms/step - loss: 0.1967 - accuracy: 0.9261 - val_loss: 0.2585 - val_accuracy: 0.9068\n",
            "Epoch 40/60\n",
            "54/54 [==============================] - 3s 47ms/step - loss: 0.1976 - accuracy: 0.9145 - val_loss: 0.2614 - val_accuracy: 0.9044\n",
            "Epoch 41/60\n",
            "54/54 [==============================] - 3s 47ms/step - loss: 0.1978 - accuracy: 0.9232 - val_loss: 0.2677 - val_accuracy: 0.9044\n",
            "Epoch 42/60\n",
            "54/54 [==============================] - 3s 48ms/step - loss: 0.1799 - accuracy: 0.9284 - val_loss: 0.2789 - val_accuracy: 0.9021\n",
            "Epoch 43/60\n",
            "54/54 [==============================] - 3s 47ms/step - loss: 0.1796 - accuracy: 0.9314 - val_loss: 0.2565 - val_accuracy: 0.9021\n",
            "Epoch 44/60\n",
            "54/54 [==============================] - 3s 47ms/step - loss: 0.1869 - accuracy: 0.9284 - val_loss: 0.2566 - val_accuracy: 0.9091\n",
            "Epoch 45/60\n",
            "54/54 [==============================] - 3s 47ms/step - loss: 0.1771 - accuracy: 0.9325 - val_loss: 0.2772 - val_accuracy: 0.9021\n",
            "Epoch 46/60\n",
            "54/54 [==============================] - 3s 47ms/step - loss: 0.1826 - accuracy: 0.9273 - val_loss: 0.2580 - val_accuracy: 0.9114\n",
            "Epoch 47/60\n",
            "54/54 [==============================] - 3s 47ms/step - loss: 0.1751 - accuracy: 0.9325 - val_loss: 0.2624 - val_accuracy: 0.9021\n",
            "Epoch 48/60\n",
            "54/54 [==============================] - 3s 47ms/step - loss: 0.1910 - accuracy: 0.9279 - val_loss: 0.2591 - val_accuracy: 0.9091\n",
            "Epoch 49/60\n",
            "54/54 [==============================] - 3s 48ms/step - loss: 0.1722 - accuracy: 0.9366 - val_loss: 0.2624 - val_accuracy: 0.9021\n",
            "Epoch 50/60\n",
            "54/54 [==============================] - 3s 49ms/step - loss: 0.1860 - accuracy: 0.9255 - val_loss: 0.2964 - val_accuracy: 0.8858\n",
            "Epoch 51/60\n",
            "54/54 [==============================] - 3s 47ms/step - loss: 0.1784 - accuracy: 0.9348 - val_loss: 0.2614 - val_accuracy: 0.8998\n",
            "Epoch 52/60\n",
            "54/54 [==============================] - 3s 47ms/step - loss: 0.1758 - accuracy: 0.9267 - val_loss: 0.2575 - val_accuracy: 0.9021\n",
            "Epoch 53/60\n",
            "54/54 [==============================] - 3s 48ms/step - loss: 0.1680 - accuracy: 0.9378 - val_loss: 0.2597 - val_accuracy: 0.9044\n",
            "Epoch 54/60\n",
            "54/54 [==============================] - 3s 48ms/step - loss: 0.1593 - accuracy: 0.9442 - val_loss: 0.2560 - val_accuracy: 0.9068\n",
            "Epoch 55/60\n",
            "54/54 [==============================] - 3s 47ms/step - loss: 0.1587 - accuracy: 0.9418 - val_loss: 0.2573 - val_accuracy: 0.9044\n",
            "Epoch 56/60\n",
            "54/54 [==============================] - 3s 47ms/step - loss: 0.1590 - accuracy: 0.9407 - val_loss: 0.2821 - val_accuracy: 0.8998\n",
            "Epoch 57/60\n",
            "54/54 [==============================] - 3s 47ms/step - loss: 0.1680 - accuracy: 0.9366 - val_loss: 0.3020 - val_accuracy: 0.8834\n",
            "Epoch 58/60\n",
            "54/54 [==============================] - 3s 48ms/step - loss: 0.1791 - accuracy: 0.9267 - val_loss: 0.2645 - val_accuracy: 0.9044\n",
            "Epoch 59/60\n",
            "54/54 [==============================] - 3s 47ms/step - loss: 0.1549 - accuracy: 0.9378 - val_loss: 0.2700 - val_accuracy: 0.9138\n",
            "Epoch 60/60\n",
            "54/54 [==============================] - 3s 48ms/step - loss: 0.1522 - accuracy: 0.9482 - val_loss: 0.2547 - val_accuracy: 0.9114\n",
            "0.4\n",
            "Epoch 1/60\n",
            "54/54 [==============================] - 3s 48ms/step - loss: 0.5378 - accuracy: 0.7307 - val_loss: 0.4235 - val_accuracy: 0.7972\n",
            "Epoch 2/60\n",
            "54/54 [==============================] - 3s 48ms/step - loss: 0.4232 - accuracy: 0.8057 - val_loss: 0.4059 - val_accuracy: 0.8182\n",
            "Epoch 3/60\n",
            "54/54 [==============================] - 3s 48ms/step - loss: 0.4110 - accuracy: 0.8080 - val_loss: 0.3910 - val_accuracy: 0.8135\n",
            "Epoch 4/60\n",
            "54/54 [==============================] - 3s 48ms/step - loss: 0.3861 - accuracy: 0.8284 - val_loss: 0.3598 - val_accuracy: 0.8415\n",
            "Epoch 5/60\n",
            "54/54 [==============================] - 3s 47ms/step - loss: 0.3610 - accuracy: 0.8237 - val_loss: 0.3496 - val_accuracy: 0.8531\n",
            "Epoch 6/60\n",
            "54/54 [==============================] - 3s 48ms/step - loss: 0.3560 - accuracy: 0.8400 - val_loss: 0.3421 - val_accuracy: 0.8531\n",
            "Epoch 7/60\n",
            "54/54 [==============================] - 3s 48ms/step - loss: 0.3442 - accuracy: 0.8360 - val_loss: 0.3514 - val_accuracy: 0.8368\n",
            "Epoch 8/60\n",
            "54/54 [==============================] - 3s 48ms/step - loss: 0.3389 - accuracy: 0.8412 - val_loss: 0.3249 - val_accuracy: 0.8648\n",
            "Epoch 9/60\n",
            "54/54 [==============================] - 3s 48ms/step - loss: 0.3254 - accuracy: 0.8499 - val_loss: 0.3205 - val_accuracy: 0.8671\n",
            "Epoch 10/60\n",
            "54/54 [==============================] - 3s 48ms/step - loss: 0.3189 - accuracy: 0.8586 - val_loss: 0.3231 - val_accuracy: 0.8695\n",
            "Epoch 11/60\n",
            "54/54 [==============================] - 3s 48ms/step - loss: 0.3003 - accuracy: 0.8714 - val_loss: 0.3135 - val_accuracy: 0.8811\n",
            "Epoch 12/60\n",
            "54/54 [==============================] - 3s 47ms/step - loss: 0.2996 - accuracy: 0.8633 - val_loss: 0.3027 - val_accuracy: 0.8904\n",
            "Epoch 13/60\n",
            "54/54 [==============================] - 3s 48ms/step - loss: 0.2894 - accuracy: 0.8842 - val_loss: 0.3048 - val_accuracy: 0.8811\n",
            "Epoch 14/60\n",
            "54/54 [==============================] - 3s 48ms/step - loss: 0.2859 - accuracy: 0.8738 - val_loss: 0.2951 - val_accuracy: 0.8858\n",
            "Epoch 15/60\n",
            "54/54 [==============================] - 3s 47ms/step - loss: 0.2773 - accuracy: 0.8784 - val_loss: 0.3135 - val_accuracy: 0.8765\n",
            "Epoch 16/60\n",
            "54/54 [==============================] - 3s 47ms/step - loss: 0.2852 - accuracy: 0.8714 - val_loss: 0.3053 - val_accuracy: 0.8765\n",
            "Epoch 17/60\n",
            "54/54 [==============================] - 3s 47ms/step - loss: 0.2826 - accuracy: 0.8790 - val_loss: 0.2912 - val_accuracy: 0.8928\n",
            "Epoch 18/60\n",
            "54/54 [==============================] - 3s 47ms/step - loss: 0.2590 - accuracy: 0.8970 - val_loss: 0.2897 - val_accuracy: 0.8974\n",
            "Epoch 19/60\n",
            "54/54 [==============================] - 3s 47ms/step - loss: 0.2665 - accuracy: 0.8871 - val_loss: 0.3131 - val_accuracy: 0.8765\n",
            "Epoch 20/60\n",
            "54/54 [==============================] - 3s 47ms/step - loss: 0.2687 - accuracy: 0.8866 - val_loss: 0.3268 - val_accuracy: 0.8601\n",
            "Epoch 21/60\n",
            "54/54 [==============================] - 3s 47ms/step - loss: 0.2610 - accuracy: 0.8883 - val_loss: 0.2853 - val_accuracy: 0.8928\n",
            "Epoch 22/60\n",
            "54/54 [==============================] - 3s 48ms/step - loss: 0.2578 - accuracy: 0.8918 - val_loss: 0.2814 - val_accuracy: 0.8951\n",
            "Epoch 23/60\n",
            "54/54 [==============================] - 3s 47ms/step - loss: 0.2566 - accuracy: 0.9005 - val_loss: 0.2803 - val_accuracy: 0.8928\n",
            "Epoch 24/60\n",
            "54/54 [==============================] - 3s 47ms/step - loss: 0.2479 - accuracy: 0.8924 - val_loss: 0.2800 - val_accuracy: 0.9044\n",
            "Epoch 25/60\n",
            "54/54 [==============================] - 3s 49ms/step - loss: 0.2509 - accuracy: 0.8924 - val_loss: 0.2950 - val_accuracy: 0.8951\n",
            "Epoch 26/60\n",
            "54/54 [==============================] - 3s 47ms/step - loss: 0.2538 - accuracy: 0.8918 - val_loss: 0.2878 - val_accuracy: 0.8904\n",
            "Epoch 27/60\n",
            "54/54 [==============================] - 3s 48ms/step - loss: 0.2508 - accuracy: 0.8935 - val_loss: 0.2827 - val_accuracy: 0.8998\n",
            "Epoch 28/60\n",
            "54/54 [==============================] - 3s 48ms/step - loss: 0.2346 - accuracy: 0.9052 - val_loss: 0.2790 - val_accuracy: 0.9021\n",
            "Epoch 29/60\n",
            "54/54 [==============================] - 3s 48ms/step - loss: 0.2425 - accuracy: 0.8970 - val_loss: 0.2786 - val_accuracy: 0.9021\n",
            "Epoch 30/60\n",
            "54/54 [==============================] - 3s 48ms/step - loss: 0.2324 - accuracy: 0.9029 - val_loss: 0.2802 - val_accuracy: 0.9021\n",
            "Epoch 31/60\n",
            "54/54 [==============================] - 3s 48ms/step - loss: 0.2289 - accuracy: 0.9063 - val_loss: 0.2731 - val_accuracy: 0.9044\n",
            "Epoch 32/60\n",
            "54/54 [==============================] - 3s 49ms/step - loss: 0.2276 - accuracy: 0.9075 - val_loss: 0.2725 - val_accuracy: 0.9021\n",
            "Epoch 33/60\n",
            "54/54 [==============================] - 3s 49ms/step - loss: 0.2181 - accuracy: 0.9168 - val_loss: 0.2701 - val_accuracy: 0.9021\n",
            "Epoch 34/60\n",
            "54/54 [==============================] - 3s 48ms/step - loss: 0.2156 - accuracy: 0.9156 - val_loss: 0.2723 - val_accuracy: 0.9044\n",
            "Epoch 35/60\n",
            "54/54 [==============================] - 3s 48ms/step - loss: 0.2198 - accuracy: 0.9151 - val_loss: 0.2704 - val_accuracy: 0.9068\n",
            "Epoch 36/60\n",
            "54/54 [==============================] - 3s 48ms/step - loss: 0.2266 - accuracy: 0.9087 - val_loss: 0.2696 - val_accuracy: 0.9068\n",
            "Epoch 37/60\n",
            "54/54 [==============================] - 3s 48ms/step - loss: 0.2143 - accuracy: 0.9156 - val_loss: 0.3398 - val_accuracy: 0.8322\n",
            "Epoch 38/60\n",
            "54/54 [==============================] - 3s 48ms/step - loss: 0.2709 - accuracy: 0.8749 - val_loss: 0.2811 - val_accuracy: 0.9021\n",
            "Epoch 39/60\n",
            "54/54 [==============================] - 3s 48ms/step - loss: 0.2139 - accuracy: 0.9191 - val_loss: 0.2769 - val_accuracy: 0.8974\n",
            "Epoch 40/60\n",
            "54/54 [==============================] - 3s 48ms/step - loss: 0.2098 - accuracy: 0.9145 - val_loss: 0.2708 - val_accuracy: 0.9021\n",
            "Epoch 41/60\n",
            "54/54 [==============================] - 3s 48ms/step - loss: 0.2125 - accuracy: 0.9110 - val_loss: 0.2676 - val_accuracy: 0.9091\n",
            "Epoch 42/60\n",
            "54/54 [==============================] - 3s 48ms/step - loss: 0.2074 - accuracy: 0.9116 - val_loss: 0.2698 - val_accuracy: 0.9044\n",
            "Epoch 43/60\n",
            "54/54 [==============================] - 3s 48ms/step - loss: 0.2027 - accuracy: 0.9186 - val_loss: 0.2665 - val_accuracy: 0.9114\n",
            "Epoch 44/60\n",
            "54/54 [==============================] - 3s 48ms/step - loss: 0.2042 - accuracy: 0.9156 - val_loss: 0.2672 - val_accuracy: 0.9044\n",
            "Epoch 45/60\n",
            "54/54 [==============================] - 3s 49ms/step - loss: 0.2024 - accuracy: 0.9215 - val_loss: 0.2664 - val_accuracy: 0.9091\n",
            "Epoch 46/60\n",
            "54/54 [==============================] - 3s 47ms/step - loss: 0.2022 - accuracy: 0.9145 - val_loss: 0.2658 - val_accuracy: 0.9114\n",
            "Epoch 47/60\n",
            "54/54 [==============================] - 3s 48ms/step - loss: 0.2011 - accuracy: 0.9180 - val_loss: 0.3133 - val_accuracy: 0.8718\n",
            "Epoch 48/60\n",
            "54/54 [==============================] - 3s 48ms/step - loss: 0.2181 - accuracy: 0.9092 - val_loss: 0.2696 - val_accuracy: 0.9021\n",
            "Epoch 49/60\n",
            "54/54 [==============================] - 3s 48ms/step - loss: 0.1953 - accuracy: 0.9215 - val_loss: 0.2664 - val_accuracy: 0.9161\n",
            "Epoch 50/60\n",
            "54/54 [==============================] - 3s 47ms/step - loss: 0.1950 - accuracy: 0.9203 - val_loss: 0.2806 - val_accuracy: 0.8974\n",
            "Epoch 51/60\n",
            "54/54 [==============================] - 3s 48ms/step - loss: 0.1941 - accuracy: 0.9284 - val_loss: 0.2634 - val_accuracy: 0.9184\n",
            "Epoch 52/60\n",
            "54/54 [==============================] - 3s 48ms/step - loss: 0.1943 - accuracy: 0.9232 - val_loss: 0.2642 - val_accuracy: 0.9021\n",
            "Epoch 53/60\n",
            "54/54 [==============================] - 3s 47ms/step - loss: 0.1936 - accuracy: 0.9250 - val_loss: 0.2669 - val_accuracy: 0.9021\n",
            "Epoch 54/60\n",
            "54/54 [==============================] - 3s 48ms/step - loss: 0.1921 - accuracy: 0.9209 - val_loss: 0.2663 - val_accuracy: 0.9068\n",
            "Epoch 55/60\n",
            "54/54 [==============================] - 3s 48ms/step - loss: 0.1998 - accuracy: 0.9145 - val_loss: 0.2643 - val_accuracy: 0.9068\n",
            "Epoch 56/60\n",
            "54/54 [==============================] - 3s 48ms/step - loss: 0.1896 - accuracy: 0.9296 - val_loss: 0.2661 - val_accuracy: 0.9044\n",
            "Epoch 57/60\n",
            "54/54 [==============================] - 3s 49ms/step - loss: 0.1816 - accuracy: 0.9290 - val_loss: 0.2612 - val_accuracy: 0.9068\n",
            "Epoch 58/60\n",
            "54/54 [==============================] - 3s 50ms/step - loss: 0.1856 - accuracy: 0.9290 - val_loss: 0.2612 - val_accuracy: 0.9091\n",
            "Epoch 59/60\n",
            "54/54 [==============================] - 3s 48ms/step - loss: 0.1779 - accuracy: 0.9290 - val_loss: 0.2692 - val_accuracy: 0.9044\n",
            "Epoch 60/60\n",
            "54/54 [==============================] - 3s 48ms/step - loss: 0.1786 - accuracy: 0.9267 - val_loss: 0.2871 - val_accuracy: 0.8928\n",
            "0.6\n",
            "Epoch 1/60\n",
            "54/54 [==============================] - 3s 50ms/step - loss: 0.6033 - accuracy: 0.6777 - val_loss: 0.4671 - val_accuracy: 0.7622\n",
            "Epoch 2/60\n",
            "54/54 [==============================] - 3s 48ms/step - loss: 0.4515 - accuracy: 0.7871 - val_loss: 0.4000 - val_accuracy: 0.8228\n",
            "Epoch 3/60\n",
            "54/54 [==============================] - 3s 48ms/step - loss: 0.4052 - accuracy: 0.8115 - val_loss: 0.3741 - val_accuracy: 0.8298\n",
            "Epoch 4/60\n",
            "54/54 [==============================] - 3s 49ms/step - loss: 0.3955 - accuracy: 0.8144 - val_loss: 0.3776 - val_accuracy: 0.8205\n",
            "Epoch 5/60\n",
            "54/54 [==============================] - 3s 48ms/step - loss: 0.3751 - accuracy: 0.8226 - val_loss: 0.3555 - val_accuracy: 0.8368\n",
            "Epoch 6/60\n",
            "54/54 [==============================] - 3s 48ms/step - loss: 0.3498 - accuracy: 0.8441 - val_loss: 0.3400 - val_accuracy: 0.8601\n",
            "Epoch 7/60\n",
            "54/54 [==============================] - 3s 48ms/step - loss: 0.3480 - accuracy: 0.8360 - val_loss: 0.3398 - val_accuracy: 0.8508\n",
            "Epoch 8/60\n",
            "54/54 [==============================] - 3s 48ms/step - loss: 0.3434 - accuracy: 0.8447 - val_loss: 0.3472 - val_accuracy: 0.8462\n",
            "Epoch 9/60\n",
            "54/54 [==============================] - 3s 49ms/step - loss: 0.3411 - accuracy: 0.8453 - val_loss: 0.3211 - val_accuracy: 0.8741\n",
            "Epoch 10/60\n",
            "54/54 [==============================] - 3s 48ms/step - loss: 0.3321 - accuracy: 0.8493 - val_loss: 0.3200 - val_accuracy: 0.8601\n",
            "Epoch 11/60\n",
            "54/54 [==============================] - 3s 48ms/step - loss: 0.3270 - accuracy: 0.8470 - val_loss: 0.3200 - val_accuracy: 0.8578\n",
            "Epoch 12/60\n",
            "54/54 [==============================] - 3s 47ms/step - loss: 0.3240 - accuracy: 0.8557 - val_loss: 0.3206 - val_accuracy: 0.8578\n",
            "Epoch 13/60\n",
            "54/54 [==============================] - 3s 48ms/step - loss: 0.3055 - accuracy: 0.8749 - val_loss: 0.3128 - val_accuracy: 0.8648\n",
            "Epoch 14/60\n",
            "54/54 [==============================] - 3s 48ms/step - loss: 0.3150 - accuracy: 0.8586 - val_loss: 0.3031 - val_accuracy: 0.8881\n",
            "Epoch 15/60\n",
            "54/54 [==============================] - 3s 48ms/step - loss: 0.2983 - accuracy: 0.8656 - val_loss: 0.3250 - val_accuracy: 0.8695\n",
            "Epoch 16/60\n",
            "54/54 [==============================] - 3s 48ms/step - loss: 0.2920 - accuracy: 0.8767 - val_loss: 0.2959 - val_accuracy: 0.8788\n",
            "Epoch 17/60\n",
            "54/54 [==============================] - 3s 48ms/step - loss: 0.2964 - accuracy: 0.8650 - val_loss: 0.3118 - val_accuracy: 0.8881\n",
            "Epoch 18/60\n",
            "54/54 [==============================] - 3s 48ms/step - loss: 0.2948 - accuracy: 0.8778 - val_loss: 0.2937 - val_accuracy: 0.8904\n",
            "Epoch 19/60\n",
            "54/54 [==============================] - 3s 49ms/step - loss: 0.2971 - accuracy: 0.8674 - val_loss: 0.3067 - val_accuracy: 0.8718\n",
            "Epoch 20/60\n",
            "54/54 [==============================] - 3s 50ms/step - loss: 0.2809 - accuracy: 0.8842 - val_loss: 0.2953 - val_accuracy: 0.8858\n",
            "Epoch 21/60\n",
            "54/54 [==============================] - 3s 48ms/step - loss: 0.2712 - accuracy: 0.8877 - val_loss: 0.2852 - val_accuracy: 0.8951\n",
            "Epoch 22/60\n",
            "54/54 [==============================] - 3s 48ms/step - loss: 0.2846 - accuracy: 0.8738 - val_loss: 0.2995 - val_accuracy: 0.8765\n",
            "Epoch 23/60\n",
            "54/54 [==============================] - 3s 48ms/step - loss: 0.2739 - accuracy: 0.8807 - val_loss: 0.2834 - val_accuracy: 0.9068\n",
            "Epoch 24/60\n",
            "54/54 [==============================] - 3s 48ms/step - loss: 0.2562 - accuracy: 0.8930 - val_loss: 0.2816 - val_accuracy: 0.8998\n",
            "Epoch 25/60\n",
            "54/54 [==============================] - 3s 48ms/step - loss: 0.2737 - accuracy: 0.8866 - val_loss: 0.2803 - val_accuracy: 0.8998\n",
            "Epoch 26/60\n",
            "54/54 [==============================] - 3s 49ms/step - loss: 0.2625 - accuracy: 0.8889 - val_loss: 0.2793 - val_accuracy: 0.8974\n",
            "Epoch 27/60\n",
            "54/54 [==============================] - 3s 48ms/step - loss: 0.2519 - accuracy: 0.8906 - val_loss: 0.2811 - val_accuracy: 0.8974\n",
            "Epoch 28/60\n",
            "54/54 [==============================] - 3s 48ms/step - loss: 0.2546 - accuracy: 0.8901 - val_loss: 0.2773 - val_accuracy: 0.9021\n",
            "Epoch 29/60\n",
            "54/54 [==============================] - 3s 47ms/step - loss: 0.2578 - accuracy: 0.8901 - val_loss: 0.2986 - val_accuracy: 0.8788\n",
            "Epoch 30/60\n",
            "54/54 [==============================] - 3s 48ms/step - loss: 0.2660 - accuracy: 0.8796 - val_loss: 0.3024 - val_accuracy: 0.8811\n",
            "Epoch 31/60\n",
            "54/54 [==============================] - 3s 48ms/step - loss: 0.2675 - accuracy: 0.8837 - val_loss: 0.2751 - val_accuracy: 0.9044\n",
            "Epoch 32/60\n",
            "54/54 [==============================] - 3s 48ms/step - loss: 0.2522 - accuracy: 0.8889 - val_loss: 0.2741 - val_accuracy: 0.9044\n",
            "Epoch 33/60\n",
            "54/54 [==============================] - 3s 48ms/step - loss: 0.2587 - accuracy: 0.8918 - val_loss: 0.3039 - val_accuracy: 0.8788\n",
            "Epoch 34/60\n",
            "54/54 [==============================] - 3s 49ms/step - loss: 0.2425 - accuracy: 0.8959 - val_loss: 0.2746 - val_accuracy: 0.9021\n",
            "Epoch 35/60\n",
            "54/54 [==============================] - 3s 48ms/step - loss: 0.2471 - accuracy: 0.8825 - val_loss: 0.2889 - val_accuracy: 0.8951\n",
            "Epoch 36/60\n",
            "54/54 [==============================] - 3s 48ms/step - loss: 0.2370 - accuracy: 0.8935 - val_loss: 0.2800 - val_accuracy: 0.8951\n",
            "Epoch 37/60\n",
            "54/54 [==============================] - 3s 49ms/step - loss: 0.2514 - accuracy: 0.8912 - val_loss: 0.3002 - val_accuracy: 0.8834\n",
            "Epoch 38/60\n",
            "54/54 [==============================] - 3s 48ms/step - loss: 0.2346 - accuracy: 0.9040 - val_loss: 0.2719 - val_accuracy: 0.9044\n",
            "Epoch 39/60\n",
            "54/54 [==============================] - 3s 48ms/step - loss: 0.2422 - accuracy: 0.8976 - val_loss: 0.3032 - val_accuracy: 0.8788\n",
            "Epoch 40/60\n",
            "54/54 [==============================] - 3s 48ms/step - loss: 0.2365 - accuracy: 0.8982 - val_loss: 0.2750 - val_accuracy: 0.8974\n",
            "Epoch 41/60\n",
            "54/54 [==============================] - 3s 48ms/step - loss: 0.2330 - accuracy: 0.9023 - val_loss: 0.3201 - val_accuracy: 0.8625\n",
            "Epoch 42/60\n",
            "54/54 [==============================] - 3s 48ms/step - loss: 0.2353 - accuracy: 0.9052 - val_loss: 0.2716 - val_accuracy: 0.9044\n",
            "Epoch 43/60\n",
            "54/54 [==============================] - 3s 48ms/step - loss: 0.2284 - accuracy: 0.9075 - val_loss: 0.2727 - val_accuracy: 0.9044\n",
            "Epoch 44/60\n",
            "54/54 [==============================] - 3s 49ms/step - loss: 0.2333 - accuracy: 0.8947 - val_loss: 0.2698 - val_accuracy: 0.9068\n",
            "Epoch 45/60\n",
            "54/54 [==============================] - 3s 48ms/step - loss: 0.2255 - accuracy: 0.9081 - val_loss: 0.2809 - val_accuracy: 0.8998\n",
            "Epoch 46/60\n",
            "54/54 [==============================] - 3s 48ms/step - loss: 0.2235 - accuracy: 0.9005 - val_loss: 0.2770 - val_accuracy: 0.8998\n",
            "Epoch 47/60\n",
            "54/54 [==============================] - 3s 49ms/step - loss: 0.2195 - accuracy: 0.9098 - val_loss: 0.2669 - val_accuracy: 0.9114\n",
            "Epoch 48/60\n",
            "54/54 [==============================] - 3s 48ms/step - loss: 0.2270 - accuracy: 0.9063 - val_loss: 0.2954 - val_accuracy: 0.8928\n",
            "Epoch 49/60\n",
            "54/54 [==============================] - 3s 48ms/step - loss: 0.2352 - accuracy: 0.8941 - val_loss: 0.2838 - val_accuracy: 0.8974\n",
            "Epoch 50/60\n",
            "54/54 [==============================] - 3s 48ms/step - loss: 0.2278 - accuracy: 0.9017 - val_loss: 0.2826 - val_accuracy: 0.8998\n",
            "Epoch 51/60\n",
            "54/54 [==============================] - 3s 48ms/step - loss: 0.2209 - accuracy: 0.9139 - val_loss: 0.2654 - val_accuracy: 0.9091\n",
            "Epoch 52/60\n",
            "54/54 [==============================] - 3s 48ms/step - loss: 0.2131 - accuracy: 0.9110 - val_loss: 0.2875 - val_accuracy: 0.8951\n",
            "Epoch 53/60\n",
            "54/54 [==============================] - 3s 48ms/step - loss: 0.2155 - accuracy: 0.9116 - val_loss: 0.2689 - val_accuracy: 0.9138\n",
            "Epoch 54/60\n",
            "54/54 [==============================] - 3s 48ms/step - loss: 0.2078 - accuracy: 0.9151 - val_loss: 0.2773 - val_accuracy: 0.9021\n",
            "Epoch 55/60\n",
            "54/54 [==============================] - 3s 48ms/step - loss: 0.2207 - accuracy: 0.9052 - val_loss: 0.2642 - val_accuracy: 0.9091\n",
            "Epoch 56/60\n",
            "54/54 [==============================] - 3s 48ms/step - loss: 0.2145 - accuracy: 0.9133 - val_loss: 0.2671 - val_accuracy: 0.9068\n",
            "Epoch 57/60\n",
            "54/54 [==============================] - 3s 48ms/step - loss: 0.2172 - accuracy: 0.9087 - val_loss: 0.2671 - val_accuracy: 0.9068\n",
            "Epoch 58/60\n",
            "54/54 [==============================] - 3s 47ms/step - loss: 0.2112 - accuracy: 0.9116 - val_loss: 0.2629 - val_accuracy: 0.9091\n",
            "Epoch 59/60\n",
            "54/54 [==============================] - 3s 48ms/step - loss: 0.2042 - accuracy: 0.9244 - val_loss: 0.2700 - val_accuracy: 0.9044\n",
            "Epoch 60/60\n",
            "54/54 [==============================] - 3s 48ms/step - loss: 0.2059 - accuracy: 0.9151 - val_loss: 0.2636 - val_accuracy: 0.9138\n",
            "0.8\n",
            "Epoch 1/60\n",
            "54/54 [==============================] - 3s 50ms/step - loss: 0.6113 - accuracy: 0.6574 - val_loss: 0.4798 - val_accuracy: 0.7716\n",
            "Epoch 2/60\n",
            "54/54 [==============================] - 3s 49ms/step - loss: 0.4964 - accuracy: 0.7609 - val_loss: 0.4141 - val_accuracy: 0.8065\n",
            "Epoch 3/60\n",
            "54/54 [==============================] - 3s 48ms/step - loss: 0.4563 - accuracy: 0.7778 - val_loss: 0.4019 - val_accuracy: 0.8159\n",
            "Epoch 4/60\n",
            "54/54 [==============================] - 3s 50ms/step - loss: 0.4485 - accuracy: 0.7865 - val_loss: 0.3898 - val_accuracy: 0.8182\n",
            "Epoch 5/60\n",
            "54/54 [==============================] - 3s 49ms/step - loss: 0.4426 - accuracy: 0.7813 - val_loss: 0.3821 - val_accuracy: 0.8322\n",
            "Epoch 6/60\n",
            "54/54 [==============================] - 3s 50ms/step - loss: 0.4139 - accuracy: 0.8074 - val_loss: 0.3704 - val_accuracy: 0.8392\n",
            "Epoch 7/60\n",
            "54/54 [==============================] - 3s 49ms/step - loss: 0.3900 - accuracy: 0.8208 - val_loss: 0.3627 - val_accuracy: 0.8392\n",
            "Epoch 8/60\n",
            "54/54 [==============================] - 3s 50ms/step - loss: 0.4026 - accuracy: 0.8098 - val_loss: 0.3555 - val_accuracy: 0.8508\n",
            "Epoch 9/60\n",
            "54/54 [==============================] - 3s 48ms/step - loss: 0.3853 - accuracy: 0.8185 - val_loss: 0.3493 - val_accuracy: 0.8578\n",
            "Epoch 10/60\n",
            "54/54 [==============================] - 3s 49ms/step - loss: 0.3827 - accuracy: 0.8208 - val_loss: 0.3508 - val_accuracy: 0.8508\n",
            "Epoch 11/60\n",
            "54/54 [==============================] - 3s 49ms/step - loss: 0.3752 - accuracy: 0.8237 - val_loss: 0.3425 - val_accuracy: 0.8625\n",
            "Epoch 12/60\n",
            "54/54 [==============================] - 3s 49ms/step - loss: 0.3632 - accuracy: 0.8261 - val_loss: 0.3414 - val_accuracy: 0.8601\n",
            "Epoch 13/60\n",
            "54/54 [==============================] - 3s 49ms/step - loss: 0.3571 - accuracy: 0.8360 - val_loss: 0.3429 - val_accuracy: 0.8415\n",
            "Epoch 14/60\n",
            "54/54 [==============================] - 3s 48ms/step - loss: 0.3598 - accuracy: 0.8319 - val_loss: 0.3341 - val_accuracy: 0.8718\n",
            "Epoch 15/60\n",
            "54/54 [==============================] - 3s 49ms/step - loss: 0.3480 - accuracy: 0.8389 - val_loss: 0.3295 - val_accuracy: 0.8718\n",
            "Epoch 16/60\n",
            "54/54 [==============================] - 3s 48ms/step - loss: 0.3609 - accuracy: 0.8319 - val_loss: 0.3242 - val_accuracy: 0.8788\n",
            "Epoch 17/60\n",
            "54/54 [==============================] - 3s 48ms/step - loss: 0.3451 - accuracy: 0.8505 - val_loss: 0.3251 - val_accuracy: 0.8671\n",
            "Epoch 18/60\n",
            "54/54 [==============================] - 3s 47ms/step - loss: 0.3435 - accuracy: 0.8406 - val_loss: 0.3175 - val_accuracy: 0.8811\n",
            "Epoch 19/60\n",
            "54/54 [==============================] - 3s 48ms/step - loss: 0.3417 - accuracy: 0.8453 - val_loss: 0.3176 - val_accuracy: 0.8834\n",
            "Epoch 20/60\n",
            "54/54 [==============================] - 3s 48ms/step - loss: 0.3354 - accuracy: 0.8447 - val_loss: 0.3186 - val_accuracy: 0.8811\n",
            "Epoch 21/60\n",
            "54/54 [==============================] - 3s 48ms/step - loss: 0.3320 - accuracy: 0.8586 - val_loss: 0.3136 - val_accuracy: 0.8811\n",
            "Epoch 22/60\n",
            "54/54 [==============================] - 3s 48ms/step - loss: 0.3270 - accuracy: 0.8517 - val_loss: 0.3123 - val_accuracy: 0.8834\n",
            "Epoch 23/60\n",
            "54/54 [==============================] - 3s 49ms/step - loss: 0.3258 - accuracy: 0.8575 - val_loss: 0.3251 - val_accuracy: 0.8625\n",
            "Epoch 24/60\n",
            "54/54 [==============================] - 3s 48ms/step - loss: 0.3374 - accuracy: 0.8522 - val_loss: 0.3088 - val_accuracy: 0.8788\n",
            "Epoch 25/60\n",
            "54/54 [==============================] - 3s 49ms/step - loss: 0.3209 - accuracy: 0.8610 - val_loss: 0.3088 - val_accuracy: 0.8858\n",
            "Epoch 26/60\n",
            "54/54 [==============================] - 3s 49ms/step - loss: 0.3141 - accuracy: 0.8563 - val_loss: 0.3057 - val_accuracy: 0.8834\n",
            "Epoch 27/60\n",
            "54/54 [==============================] - 3s 48ms/step - loss: 0.3023 - accuracy: 0.8645 - val_loss: 0.3072 - val_accuracy: 0.8811\n",
            "Epoch 28/60\n",
            "54/54 [==============================] - 3s 49ms/step - loss: 0.3060 - accuracy: 0.8639 - val_loss: 0.3302 - val_accuracy: 0.8601\n",
            "Epoch 29/60\n",
            "54/54 [==============================] - 3s 48ms/step - loss: 0.3084 - accuracy: 0.8685 - val_loss: 0.2996 - val_accuracy: 0.8834\n",
            "Epoch 30/60\n",
            "54/54 [==============================] - 3s 47ms/step - loss: 0.2985 - accuracy: 0.8749 - val_loss: 0.2937 - val_accuracy: 0.8881\n",
            "Epoch 31/60\n",
            "54/54 [==============================] - 3s 49ms/step - loss: 0.2934 - accuracy: 0.8691 - val_loss: 0.2913 - val_accuracy: 0.8834\n",
            "Epoch 32/60\n",
            "54/54 [==============================] - 3s 49ms/step - loss: 0.2931 - accuracy: 0.8813 - val_loss: 0.2968 - val_accuracy: 0.8904\n",
            "Epoch 33/60\n",
            "54/54 [==============================] - 3s 49ms/step - loss: 0.2897 - accuracy: 0.8720 - val_loss: 0.2930 - val_accuracy: 0.8928\n",
            "Epoch 34/60\n",
            "54/54 [==============================] - 3s 49ms/step - loss: 0.2887 - accuracy: 0.8639 - val_loss: 0.2839 - val_accuracy: 0.8974\n",
            "Epoch 35/60\n",
            "54/54 [==============================] - 3s 49ms/step - loss: 0.2971 - accuracy: 0.8709 - val_loss: 0.2850 - val_accuracy: 0.8951\n",
            "Epoch 36/60\n",
            "54/54 [==============================] - 3s 48ms/step - loss: 0.2770 - accuracy: 0.8860 - val_loss: 0.2818 - val_accuracy: 0.8904\n",
            "Epoch 37/60\n",
            "54/54 [==============================] - 3s 50ms/step - loss: 0.2902 - accuracy: 0.8720 - val_loss: 0.2836 - val_accuracy: 0.8904\n",
            "Epoch 38/60\n",
            "54/54 [==============================] - 3s 49ms/step - loss: 0.2812 - accuracy: 0.8813 - val_loss: 0.2804 - val_accuracy: 0.8951\n",
            "Epoch 39/60\n",
            "54/54 [==============================] - 3s 49ms/step - loss: 0.2874 - accuracy: 0.8714 - val_loss: 0.2828 - val_accuracy: 0.9021\n",
            "Epoch 40/60\n",
            "54/54 [==============================] - 3s 48ms/step - loss: 0.2812 - accuracy: 0.8738 - val_loss: 0.2845 - val_accuracy: 0.8974\n",
            "Epoch 41/60\n",
            "54/54 [==============================] - 3s 49ms/step - loss: 0.2812 - accuracy: 0.8784 - val_loss: 0.2998 - val_accuracy: 0.8928\n",
            "Epoch 42/60\n",
            "54/54 [==============================] - 3s 49ms/step - loss: 0.2774 - accuracy: 0.8860 - val_loss: 0.2804 - val_accuracy: 0.9021\n",
            "Epoch 43/60\n",
            "54/54 [==============================] - 3s 49ms/step - loss: 0.2714 - accuracy: 0.8807 - val_loss: 0.2802 - val_accuracy: 0.9044\n",
            "Epoch 44/60\n",
            "54/54 [==============================] - 3s 48ms/step - loss: 0.2619 - accuracy: 0.8889 - val_loss: 0.2767 - val_accuracy: 0.9044\n",
            "Epoch 45/60\n",
            "54/54 [==============================] - 3s 49ms/step - loss: 0.2693 - accuracy: 0.8807 - val_loss: 0.2776 - val_accuracy: 0.9068\n",
            "Epoch 46/60\n",
            "54/54 [==============================] - 3s 49ms/step - loss: 0.2654 - accuracy: 0.8877 - val_loss: 0.2756 - val_accuracy: 0.8998\n",
            "Epoch 47/60\n",
            "54/54 [==============================] - 3s 49ms/step - loss: 0.2692 - accuracy: 0.8883 - val_loss: 0.2765 - val_accuracy: 0.9044\n",
            "Epoch 48/60\n",
            "54/54 [==============================] - 3s 49ms/step - loss: 0.2772 - accuracy: 0.8755 - val_loss: 0.2780 - val_accuracy: 0.9021\n",
            "Epoch 49/60\n",
            "54/54 [==============================] - 3s 49ms/step - loss: 0.2620 - accuracy: 0.8848 - val_loss: 0.2754 - val_accuracy: 0.9068\n",
            "Epoch 50/60\n",
            "54/54 [==============================] - 3s 50ms/step - loss: 0.2676 - accuracy: 0.8842 - val_loss: 0.2822 - val_accuracy: 0.8904\n",
            "Epoch 51/60\n",
            "54/54 [==============================] - 3s 51ms/step - loss: 0.2570 - accuracy: 0.8889 - val_loss: 0.2755 - val_accuracy: 0.8951\n",
            "Epoch 52/60\n",
            "54/54 [==============================] - 3s 49ms/step - loss: 0.2582 - accuracy: 0.8883 - val_loss: 0.2856 - val_accuracy: 0.8974\n",
            "Epoch 53/60\n",
            "54/54 [==============================] - 3s 49ms/step - loss: 0.2594 - accuracy: 0.8871 - val_loss: 0.2719 - val_accuracy: 0.8998\n",
            "Epoch 54/60\n",
            "54/54 [==============================] - 3s 51ms/step - loss: 0.2591 - accuracy: 0.8860 - val_loss: 0.2721 - val_accuracy: 0.9068\n",
            "Epoch 55/60\n",
            "54/54 [==============================] - 3s 50ms/step - loss: 0.2621 - accuracy: 0.8918 - val_loss: 0.2713 - val_accuracy: 0.9044\n",
            "Epoch 56/60\n",
            "54/54 [==============================] - 3s 50ms/step - loss: 0.2446 - accuracy: 0.9029 - val_loss: 0.2699 - val_accuracy: 0.9114\n",
            "Epoch 57/60\n",
            "54/54 [==============================] - 3s 49ms/step - loss: 0.2391 - accuracy: 0.9005 - val_loss: 0.2715 - val_accuracy: 0.9044\n",
            "Epoch 58/60\n",
            "54/54 [==============================] - 3s 50ms/step - loss: 0.2546 - accuracy: 0.8930 - val_loss: 0.2764 - val_accuracy: 0.9021\n",
            "Epoch 59/60\n",
            "54/54 [==============================] - 3s 50ms/step - loss: 0.2588 - accuracy: 0.8825 - val_loss: 0.2728 - val_accuracy: 0.8974\n",
            "Epoch 60/60\n",
            "54/54 [==============================] - 3s 49ms/step - loss: 0.2565 - accuracy: 0.8860 - val_loss: 0.2671 - val_accuracy: 0.9068\n"
          ]
        }
      ],
      "source": [
        "dr_scores = {}\n",
        "d_rate = {}\n",
        "for dr in [0.2, 0.4, 0.6, 0.8]:\n",
        "  print(dr)\n",
        "  model = train_model(name= 'DR_tuning' , droprate=dr, learning_rate=learning_rate, batch_size=batch_size, epochs=epochs)\n",
        "  dr_scores[dr] = model[1]"
      ]
    },
    {
      "cell_type": "code",
      "execution_count": null,
      "metadata": {
        "colab": {
          "base_uri": "https://localhost:8080/",
          "height": 312
        },
        "id": "g8vrdnuDOL7J",
        "outputId": "2280b3c7-2adb-4fe1-cd9c-3bc690261043"
      },
      "outputs": [
        {
          "data": {
            "text/plain": [
              "<matplotlib.legend.Legend at 0x7efdc62a6d00>"
            ]
          },
          "execution_count": 37,
          "metadata": {},
          "output_type": "execute_result"
        },
        {
          "data": {
            "image/png": "[encoded data removed]",
            "text/plain": [
              "<Figure size 432x288 with 1 Axes>"
            ]
          },
          "metadata": {
            "needs_background": "light"
          },
          "output_type": "display_data"
        }
      ],
      "source": [
        "for dr, hist in dr_scores.items():\n",
        "    plt.plot(hist['val_loss'], label=('loss=%s' % dr))\n",
        "    plt.plot(hist['val_accuracy'], label=('acc=%s' % dr))\n",
        "    \n",
        "plt.title('Tuning of drop rate')\n",
        "plt.ylabel('Accuracy, Loss')\n",
        "plt.xlabel('Epoch')\n",
        "plt.grid(True)\n",
        "plt.gca().set_ylim(0, 1)\n",
        "plt.legend()"
      ]
    },
    {
      "cell_type": "markdown",
      "metadata": {
        "id": "DJbTaDwt_cHo"
      },
      "source": [
        "The best accuracy and loss for validation is got with drop rate of 0.2"
      ]
    },
    {
      "cell_type": "code",
      "execution_count": null,
      "metadata": {
        "id": "JDFCw9NF_kan"
      },
      "outputs": [],
      "source": [
        "droprate = 0.6"
      ]
    },
    {
      "cell_type": "markdown",
      "metadata": {
        "id": "CpSTCsZ19vh6"
      },
      "source": [
        "## Final model"
      ]
    },
    {
      "cell_type": "code",
      "execution_count": null,
      "metadata": {
        "id": "UTOVtNoQT3Aw"
      },
      "outputs": [],
      "source": [
        "final_model = model_build(name='Final_Model', droprate=droprate, learning_rate=learning_rate)"
      ]
    },
    {
      "cell_type": "code",
      "execution_count": null,
      "metadata": {
        "colab": {
          "base_uri": "https://localhost:8080/"
        },
        "id": "8oBk_YO9gPC8",
        "outputId": "6ebbdd97-5e5a-40f3-9c8c-c2e32dec3ea5"
      },
      "outputs": [
        {
          "data": {
            "text/plain": [
              "(0.6, 0.0001)"
            ]
          },
          "execution_count": 40,
          "metadata": {},
          "output_type": "execute_result"
        }
      ],
      "source": [
        "droprate, learning_rate"
      ]
    },
    {
      "cell_type": "code",
      "execution_count": null,
      "metadata": {
        "id": "D-LbkIYbT3Aw"
      },
      "outputs": [],
      "source": [
        "checkpoint = keras.callbacks.ModelCheckpoint(\n",
        "    'CS1{epoch:02d}_{val_accuracy:.3f}.h5',\n",
        "    save_best_only=True,\n",
        "    monitor='val_accuracy',\n",
        "    mode='max'\n",
        ")"
      ]
    },
    {
      "cell_type": "code",
      "execution_count": null,
      "metadata": {
        "colab": {
          "base_uri": "https://localhost:8080/"
        },
        "id": "BTxppYDAT3Aw",
        "outputId": "4f7e61d2-1142-4ff4-fc83-1e564e008901"
      },
      "outputs": [
        {
          "name": "stdout",
          "output_type": "stream",
          "text": [
            "Epoch 1/60\n",
            "54/54 [==============================] - 3s 51ms/step - loss: 0.5790 - accuracy: 0.7062 - val_loss: 0.4335 - val_accuracy: 0.8065\n",
            "Epoch 2/60\n",
            "54/54 [==============================] - 3s 48ms/step - loss: 0.4486 - accuracy: 0.7894 - val_loss: 0.3938 - val_accuracy: 0.8205\n",
            "Epoch 3/60\n",
            "54/54 [==============================] - 3s 48ms/step - loss: 0.4107 - accuracy: 0.8045 - val_loss: 0.3714 - val_accuracy: 0.8368\n",
            "Epoch 4/60\n",
            "54/54 [==============================] - 3s 48ms/step - loss: 0.3854 - accuracy: 0.8214 - val_loss: 0.3593 - val_accuracy: 0.8415\n",
            "Epoch 5/60\n",
            "54/54 [==============================] - 3s 49ms/step - loss: 0.3748 - accuracy: 0.8220 - val_loss: 0.3503 - val_accuracy: 0.8462\n",
            "Epoch 6/60\n",
            "54/54 [==============================] - 3s 48ms/step - loss: 0.3710 - accuracy: 0.8418 - val_loss: 0.3707 - val_accuracy: 0.8205\n",
            "Epoch 7/60\n",
            "54/54 [==============================] - 3s 50ms/step - loss: 0.3582 - accuracy: 0.8319 - val_loss: 0.3373 - val_accuracy: 0.8648\n",
            "Epoch 8/60\n",
            "54/54 [==============================] - 3s 47ms/step - loss: 0.3365 - accuracy: 0.8476 - val_loss: 0.3484 - val_accuracy: 0.8531\n",
            "Epoch 9/60\n",
            "54/54 [==============================] - 3s 49ms/step - loss: 0.3361 - accuracy: 0.8458 - val_loss: 0.3199 - val_accuracy: 0.8765\n",
            "Epoch 10/60\n",
            "54/54 [==============================] - 3s 49ms/step - loss: 0.3231 - accuracy: 0.8557 - val_loss: 0.3118 - val_accuracy: 0.8811\n",
            "Epoch 11/60\n",
            "54/54 [==============================] - 3s 48ms/step - loss: 0.3182 - accuracy: 0.8586 - val_loss: 0.3059 - val_accuracy: 0.8788\n",
            "Epoch 12/60\n",
            "54/54 [==============================] - 4s 56ms/step - loss: 0.3009 - accuracy: 0.8720 - val_loss: 0.3018 - val_accuracy: 0.8881\n",
            "Epoch 13/60\n",
            "54/54 [==============================] - 3s 49ms/step - loss: 0.3105 - accuracy: 0.8691 - val_loss: 0.2975 - val_accuracy: 0.8788\n",
            "Epoch 14/60\n",
            "54/54 [==============================] - 3s 48ms/step - loss: 0.3027 - accuracy: 0.8674 - val_loss: 0.2928 - val_accuracy: 0.8928\n",
            "Epoch 15/60\n",
            "54/54 [==============================] - 3s 48ms/step - loss: 0.3034 - accuracy: 0.8691 - val_loss: 0.2932 - val_accuracy: 0.8811\n",
            "Epoch 16/60\n",
            "54/54 [==============================] - 3s 48ms/step - loss: 0.2806 - accuracy: 0.8802 - val_loss: 0.2861 - val_accuracy: 0.8928\n",
            "Epoch 17/60\n",
            "54/54 [==============================] - 3s 51ms/step - loss: 0.2814 - accuracy: 0.8773 - val_loss: 0.2832 - val_accuracy: 0.8974\n",
            "Epoch 18/60\n",
            "54/54 [==============================] - 3s 48ms/step - loss: 0.2849 - accuracy: 0.8755 - val_loss: 0.3170 - val_accuracy: 0.8625\n",
            "Epoch 19/60\n",
            "54/54 [==============================] - 3s 49ms/step - loss: 0.2817 - accuracy: 0.8813 - val_loss: 0.2831 - val_accuracy: 0.8928\n",
            "Epoch 20/60\n",
            "54/54 [==============================] - 3s 49ms/step - loss: 0.2701 - accuracy: 0.8918 - val_loss: 0.2816 - val_accuracy: 0.8904\n",
            "Epoch 21/60\n",
            "54/54 [==============================] - 3s 48ms/step - loss: 0.2650 - accuracy: 0.8901 - val_loss: 0.2833 - val_accuracy: 0.8974\n",
            "Epoch 22/60\n",
            "54/54 [==============================] - 3s 49ms/step - loss: 0.2727 - accuracy: 0.8790 - val_loss: 0.2781 - val_accuracy: 0.8974\n",
            "Epoch 23/60\n",
            "54/54 [==============================] - 3s 49ms/step - loss: 0.2600 - accuracy: 0.8842 - val_loss: 0.2766 - val_accuracy: 0.8974\n",
            "Epoch 24/60\n",
            "54/54 [==============================] - 3s 49ms/step - loss: 0.2738 - accuracy: 0.8767 - val_loss: 0.2831 - val_accuracy: 0.8881\n",
            "Epoch 25/60\n",
            "54/54 [==============================] - 3s 48ms/step - loss: 0.2514 - accuracy: 0.8935 - val_loss: 0.2753 - val_accuracy: 0.8928\n",
            "Epoch 26/60\n",
            "54/54 [==============================] - 3s 48ms/step - loss: 0.2510 - accuracy: 0.8976 - val_loss: 0.2733 - val_accuracy: 0.8998\n",
            "Epoch 27/60\n",
            "54/54 [==============================] - 3s 47ms/step - loss: 0.2562 - accuracy: 0.8953 - val_loss: 0.2910 - val_accuracy: 0.8881\n",
            "Epoch 28/60\n",
            "54/54 [==============================] - 3s 48ms/step - loss: 0.2693 - accuracy: 0.8813 - val_loss: 0.3104 - val_accuracy: 0.8671\n",
            "Epoch 29/60\n",
            "54/54 [==============================] - 4s 63ms/step - loss: 0.2521 - accuracy: 0.8941 - val_loss: 0.2767 - val_accuracy: 0.8881\n",
            "Epoch 30/60\n",
            "54/54 [==============================] - 4s 55ms/step - loss: 0.2359 - accuracy: 0.8994 - val_loss: 0.2690 - val_accuracy: 0.8998\n",
            "Epoch 31/60\n",
            "54/54 [==============================] - 3s 47ms/step - loss: 0.2407 - accuracy: 0.8953 - val_loss: 0.2831 - val_accuracy: 0.8881\n",
            "Epoch 32/60\n",
            "54/54 [==============================] - 3s 48ms/step - loss: 0.2385 - accuracy: 0.9087 - val_loss: 0.3071 - val_accuracy: 0.8811\n",
            "Epoch 33/60\n",
            "54/54 [==============================] - 3s 49ms/step - loss: 0.2395 - accuracy: 0.9011 - val_loss: 0.2718 - val_accuracy: 0.9068\n",
            "Epoch 34/60\n",
            "54/54 [==============================] - 3s 48ms/step - loss: 0.2380 - accuracy: 0.9029 - val_loss: 0.2698 - val_accuracy: 0.8998\n",
            "Epoch 35/60\n",
            "54/54 [==============================] - 3s 48ms/step - loss: 0.2322 - accuracy: 0.9075 - val_loss: 0.3140 - val_accuracy: 0.8695\n",
            "Epoch 36/60\n",
            "54/54 [==============================] - 3s 49ms/step - loss: 0.2515 - accuracy: 0.8930 - val_loss: 0.2823 - val_accuracy: 0.8951\n",
            "Epoch 37/60\n",
            "54/54 [==============================] - 3s 48ms/step - loss: 0.2326 - accuracy: 0.9023 - val_loss: 0.2627 - val_accuracy: 0.8998\n",
            "Epoch 38/60\n",
            "54/54 [==============================] - 3s 49ms/step - loss: 0.2245 - accuracy: 0.9110 - val_loss: 0.2674 - val_accuracy: 0.8998\n",
            "Epoch 39/60\n",
            "54/54 [==============================] - 3s 48ms/step - loss: 0.2417 - accuracy: 0.8970 - val_loss: 0.3309 - val_accuracy: 0.8578\n",
            "Epoch 40/60\n",
            "54/54 [==============================] - 3s 49ms/step - loss: 0.2217 - accuracy: 0.9092 - val_loss: 0.2726 - val_accuracy: 0.8974\n",
            "Epoch 41/60\n",
            "54/54 [==============================] - 3s 49ms/step - loss: 0.2180 - accuracy: 0.9151 - val_loss: 0.2635 - val_accuracy: 0.9044\n",
            "Epoch 42/60\n",
            "54/54 [==============================] - 4s 68ms/step - loss: 0.2328 - accuracy: 0.8959 - val_loss: 0.2634 - val_accuracy: 0.9068\n",
            "Epoch 43/60\n",
            "54/54 [==============================] - 3s 48ms/step - loss: 0.2256 - accuracy: 0.9075 - val_loss: 0.2630 - val_accuracy: 0.9021\n",
            "Epoch 44/60\n",
            "54/54 [==============================] - 3s 48ms/step - loss: 0.2142 - accuracy: 0.9139 - val_loss: 0.2600 - val_accuracy: 0.9021\n",
            "Epoch 45/60\n",
            "54/54 [==============================] - 3s 48ms/step - loss: 0.2210 - accuracy: 0.9075 - val_loss: 0.2650 - val_accuracy: 0.8998\n",
            "Epoch 46/60\n",
            "54/54 [==============================] - 3s 47ms/step - loss: 0.2086 - accuracy: 0.9186 - val_loss: 0.2777 - val_accuracy: 0.8904\n",
            "Epoch 47/60\n",
            "54/54 [==============================] - 3s 48ms/step - loss: 0.2264 - accuracy: 0.9046 - val_loss: 0.2736 - val_accuracy: 0.9021\n",
            "Epoch 48/60\n",
            "54/54 [==============================] - 3s 49ms/step - loss: 0.2146 - accuracy: 0.9104 - val_loss: 0.2591 - val_accuracy: 0.9091\n",
            "Epoch 49/60\n",
            "54/54 [==============================] - 3s 48ms/step - loss: 0.2036 - accuracy: 0.9186 - val_loss: 0.2619 - val_accuracy: 0.8998\n",
            "Epoch 50/60\n",
            "54/54 [==============================] - 3s 48ms/step - loss: 0.2051 - accuracy: 0.9174 - val_loss: 0.2633 - val_accuracy: 0.8998\n",
            "Epoch 51/60\n",
            "54/54 [==============================] - 3s 49ms/step - loss: 0.2119 - accuracy: 0.9162 - val_loss: 0.2567 - val_accuracy: 0.9114\n",
            "Epoch 52/60\n",
            "54/54 [==============================] - 3s 48ms/step - loss: 0.1977 - accuracy: 0.9215 - val_loss: 0.2615 - val_accuracy: 0.9114\n",
            "Epoch 53/60\n",
            "54/54 [==============================] - 3s 47ms/step - loss: 0.1995 - accuracy: 0.9203 - val_loss: 0.2636 - val_accuracy: 0.9044\n",
            "Epoch 54/60\n",
            "54/54 [==============================] - 3s 49ms/step - loss: 0.1984 - accuracy: 0.9226 - val_loss: 0.2612 - val_accuracy: 0.9091\n",
            "Epoch 55/60\n",
            "54/54 [==============================] - 3s 47ms/step - loss: 0.2045 - accuracy: 0.9162 - val_loss: 0.2700 - val_accuracy: 0.9021\n",
            "Epoch 56/60\n",
            "54/54 [==============================] - 3s 48ms/step - loss: 0.2014 - accuracy: 0.9238 - val_loss: 0.2618 - val_accuracy: 0.9068\n",
            "Epoch 57/60\n",
            "54/54 [==============================] - 3s 47ms/step - loss: 0.2026 - accuracy: 0.9151 - val_loss: 0.2563 - val_accuracy: 0.9044\n",
            "Epoch 58/60\n",
            "54/54 [==============================] - 3s 47ms/step - loss: 0.1901 - accuracy: 0.9203 - val_loss: 0.2551 - val_accuracy: 0.9114\n",
            "Epoch 59/60\n",
            "54/54 [==============================] - 3s 48ms/step - loss: 0.2007 - accuracy: 0.9139 - val_loss: 0.2933 - val_accuracy: 0.8881\n",
            "Epoch 60/60\n",
            "54/54 [==============================] - 3s 48ms/step - loss: 0.1861 - accuracy: 0.9203 - val_loss: 0.2575 - val_accuracy: 0.9091\n"
          ]
        }
      ],
      "source": [
        "history = final_model.fit(\n",
        "    train_ds,\n",
        "    validation_data=val_ds,\n",
        "    epochs=epochs,\n",
        "    batch_size=batch_size,\n",
        "    callbacks=[checkpoint]\n",
        "    )"
      ]
    },
    {
      "cell_type": "code",
      "execution_count": null,
      "metadata": {
        "colab": {
          "base_uri": "https://localhost:8080/",
          "height": 367
        },
        "id": "U7kEfJSbtyha",
        "outputId": "0f8d154b-ada5-4e35-b41c-75678b41778b"
      },
      "outputs": [
        {
          "data": {
            "image/png": "[encoded data removed]",
            "text/plain": [
              "<Figure size 576x360 with 1 Axes>"
            ]
          },
          "metadata": {
            "needs_background": "light"
          },
          "output_type": "display_data"
        },
        {
          "data": {
            "text/plain": [
              "<Figure size 432x288 with 0 Axes>"
            ]
          },
          "metadata": {},
          "output_type": "display_data"
        }
      ],
      "source": [
        "# Plot training & validation accuracy and loss values\n",
        "pd.DataFrame(history.history).plot(figsize=(10, 6))\n",
        "plt.title('Final Model')\n",
        "plt.ylabel('Accuracy, Loss')\n",
        "plt.xlabel('Epoch')\n",
        "plt.grid(True)\n",
        "plt.gca().set_ylim(0, 1)\n",
        "plt.show()"
      ]
    },
    {
      "cell_type": "code",
      "execution_count": null,
      "metadata": {
        "colab": {
          "base_uri": "https://localhost:8080/"
        },
        "id": "6vxxs4vcW-D4",
        "outputId": "ba5ceaea-6fc2-454c-c5ed-e626c9cdf0ce"
      },
      "outputs": [
        {
          "name": "stdout",
          "output_type": "stream",
          "text": [
            "Model: \"Final_Model\"\n",
            "_________________________________________________________________\n",
            " Layer (type)                Output Shape              Param #   \n",
            "=================================================================\n",
            " rescaling_8 (Rescaling)     (None, 150, 150, 3)       0         \n",
            "                                                                 \n",
            " conv2d_8 (Conv2D)           (None, 50, 50, 32)        896       \n",
            "                                                                 \n",
            " max_pooling2d_8 (MaxPooling  (None, 25, 25, 32)       0         \n",
            " 2D)                                                             \n",
            "                                                                 \n",
            " dropout_8 (Dropout)         (None, 25, 25, 32)        0         \n",
            "                                                                 \n",
            " flatten_8 (Flatten)         (None, 20000)             0         \n",
            "                                                                 \n",
            " dense_8 (Dense)             (None, 32)                640032    \n",
            "                                                                 \n",
            " output (Dense)              (None, 2)                 66        \n",
            "                                                                 \n",
            "=================================================================\n",
            "Total params: 640,994\n",
            "Trainable params: 640,994\n",
            "Non-trainable params: 0\n",
            "_________________________________________________________________\n"
          ]
        }
      ],
      "source": [
        "final_model.summary()"
      ]
    },
    {
      "cell_type": "code",
      "execution_count": null,
      "metadata": {
        "id": "nd4K-0MpZs98"
      },
      "outputs": [],
      "source": [
        "final_model.save_weights('CS1_model.h5', save_format='h5')"
      ]
    }
  ],
  "metadata": {
    "accelerator": "GPU",
    "colab": {
      "provenance": []
    },
    "gpuClass": "standard",
    "kernelspec": {
      "display_name": "ml-zoomcamp",
      "language": "python",
      "name": "python3"
    },
    "language_info": {
      "codemirror_mode": {
        "name": "ipython",
        "version": 3
      },
      "file_extension": ".py",
      "mimetype": "text/x-python",
      "name": "python",
      "nbconvert_exporter": "python",
      "pygments_lexer": "ipython3",
      "version": "3.9.13 (main, Aug 25 2022, 23:51:50) [MSC v.1916 64 bit (AMD64)]"
    },
    "varInspector": {
      "cols": {
        "lenName": 16,
        "lenType": 16,
        "lenVar": 40
      },
      "kernels_config": {
        "python": {
          "delete_cmd_postfix": "",
          "delete_cmd_prefix": "del ",
          "library": "var_list.py",
          "varRefreshCmd": "print(var_dic_list())"
        },
        "r": {
          "delete_cmd_postfix": ") ",
          "delete_cmd_prefix": "rm(",
          "library": "var_list.r",
          "varRefreshCmd": "cat(var_dic_list()) "
        }
      },
      "types_to_exclude": [
        "module",
        "function",
        "builtin_function_or_method",
        "instance",
        "_Feature"
      ],
      "window_display": false
    },
    "vscode": {
      "interpreter": {
        "hash": "817f37f0b64ee69971727239176a646f472f5595bbb082fa078235c4b39d83ef"
      }
    }
  },
  "nbformat": 4,
  "nbformat_minor": 0
}
