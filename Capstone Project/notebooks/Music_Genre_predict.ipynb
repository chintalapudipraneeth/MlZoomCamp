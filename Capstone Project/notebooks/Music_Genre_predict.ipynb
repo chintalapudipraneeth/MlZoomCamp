{
 "cells": [
  {
   "cell_type": "code",
   "execution_count": 1,
   "id": "bb607855",
   "metadata": {},
   "outputs": [],
   "source": [
    "import pandas as pd\n",
    "import requests"
   ]
  },
  {
   "cell_type": "code",
   "execution_count": 2,
   "id": "ff6f4f20",
   "metadata": {},
   "outputs": [],
   "source": [
    "url = \"http://localhost:9696/predict\""
   ]
  },
  {
   "cell_type": "code",
   "execution_count": 3,
   "id": "2911871d",
   "metadata": {},
   "outputs": [],
   "source": [
    "DATA_DIR = 'd:/maschineLearning/zoomcamp/CapstoneProject/data/'\n",
    "df_test = pd.read_csv(DATA_DIR + '/processed/test.csv', index_col=0)"
   ]
  },
  {
   "cell_type": "code",
   "execution_count": 4,
   "id": "738bfb9e",
   "metadata": {},
   "outputs": [
    {
     "data": {
      "text/plain": [
       "popularity             66.0\n",
       "acousticness         0.0452\n",
       "danceability          0.264\n",
       "duration_ms            -1.0\n",
       "energy                 0.78\n",
       "instrumentalness     0.0222\n",
       "key                       C\n",
       "liveness              0.376\n",
       "loudness             -2.741\n",
       "mode                  major\n",
       "speechiness          0.0517\n",
       "tempo               155.376\n",
       "valence               0.456\n",
       "music_genre            rock\n",
       "Name: 38269, dtype: object"
      ]
     },
     "execution_count": 4,
     "metadata": {},
     "output_type": "execute_result"
    }
   ],
   "source": [
    "df_test.iloc[550] "
   ]
  },
  {
   "cell_type": "code",
   "execution_count": 5,
   "id": "533325b1",
   "metadata": {},
   "outputs": [],
   "source": [
    "music = {\n",
    "    \"popularity\": 66.0,\n",
    "    \"acousticness\": 0.0452,\n",
    "    \"danceability\": 0.264,\n",
    "    \"duration_ms\": -1.0,\n",
    "    \"energy\": 0.78,\n",
    "    \"instrumentalness\": 0.0222,\n",
    "    \"key\": \"C\",\n",
    "    \"liveness\": 0.376,\n",
    "    \"loudness\": -2.741,\n",
    "    \"mode\": \"major\",\n",
    "    \"speechiness\": 0.0517,\n",
    "    \"tempo\": 155.376,\n",
    "    \"valence\": 0.456\n",
    "\n",
    "}"
   ]
  },
  {
   "cell_type": "code",
   "execution_count": 8,
   "id": "808c0549",
   "metadata": {},
   "outputs": [
    {
     "data": {
      "text/plain": [
       "'rock'"
      ]
     },
     "execution_count": 8,
     "metadata": {},
     "output_type": "execute_result"
    }
   ],
   "source": [
    "response = requests.post(url, json=music).json()\n",
    "response"
   ]
  },
  {
   "cell_type": "code",
   "execution_count": null,
   "id": "be64b4ca",
   "metadata": {},
   "outputs": [],
   "source": []
  }
 ],
 "metadata": {
  "kernelspec": {
   "display_name": "Python 3 (ipykernel)",
   "language": "python",
   "name": "python3"
  },
  "language_info": {
   "codemirror_mode": {
    "name": "ipython",
    "version": 3
   },
   "file_extension": ".py",
   "mimetype": "text/x-python",
   "name": "python",
   "nbconvert_exporter": "python",
   "pygments_lexer": "ipython3",
   "version": "3.9.13"
  }
 },
 "nbformat": 4,
 "nbformat_minor": 5
}
